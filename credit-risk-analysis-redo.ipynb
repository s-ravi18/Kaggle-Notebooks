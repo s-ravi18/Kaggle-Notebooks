{
 "cells": [
  {
   "cell_type": "markdown",
   "id": "ca8b20ac",
   "metadata": {
    "papermill": {
     "duration": 0.024526,
     "end_time": "2023-04-12T22:01:26.452211",
     "exception": false,
     "start_time": "2023-04-12T22:01:26.427685",
     "status": "completed"
    },
    "tags": []
   },
   "source": [
    "## Hi Guys! Today, I have chosen an important problem statement to work upon. Let me break it down into simple words, and you will soon understand its importance.\n",
    "\n",
    "### -  Financial institutions invest a ton of money for constructing credit risk analysis models to determine the probability of default of a potential borrower. The models provide information on the level of a borrower's credit risk at any particular time. \n",
    "\n",
    "### -  Some of you might be wondering what \"credit\" is. Well here's come the definition:"
   ]
  },
  {
   "cell_type": "markdown",
   "id": "6200b5c5",
   "metadata": {
    "papermill": {
     "duration": 0.022095,
     "end_time": "2023-04-12T22:01:26.495400",
     "exception": false,
     "start_time": "2023-04-12T22:01:26.473305",
     "status": "completed"
    },
    "tags": []
   },
   "source": [
    "<div style=\"width:100%;text-align: center;\"> <img align=middle src=\"https://www.greenbiz.com/sites/default/files/2020-09/definition_conceptart.jpg\" alt=\"Heat beating\" style=\"height:300px;margin-top:3rem;\"> </div>"
   ]
  },
  {
   "cell_type": "markdown",
   "id": "3bd8911e",
   "metadata": {
    "papermill": {
     "duration": 0.020901,
     "end_time": "2023-04-12T22:01:26.536926",
     "exception": false,
     "start_time": "2023-04-12T22:01:26.516025",
     "status": "completed"
    },
    "tags": []
   },
   "source": [
    "### <span style=\"color:red;\"> - \"Credit is the ability to borrow money or access goods or services with the understanding that you'll pay later.\" </span>\n",
    "\n",
    "### <span style=\"color:blue;\"> - \"Creditworthiness is how a lender determines that you will default on your debt obligations, or how worthy you are to receive new credit. Your creditworthiness is what creditors look at before they approve any new credit to you.\" </span>\n",
    "\n",
    "\n",
    "### Credit risks are a commonly observed phenomenon in areas of finance that relate to mortgages, credit cards, and other kinds of loans. There is always a probability that the borrower may not get back with the amount."
   ]
  },
  {
   "cell_type": "markdown",
   "id": "3fd60707",
   "metadata": {
    "papermill": {
     "duration": 0.020332,
     "end_time": "2023-04-12T22:01:26.577766",
     "exception": false,
     "start_time": "2023-04-12T22:01:26.557434",
     "status": "completed"
    },
    "tags": []
   },
   "source": [
    "So it is important that when a borrower applies for a loan, the lender or the issuer must establish and examine the borrower’s ability to repay the loan. So in this notebook, I will be doing the following stuff:\n",
    "\n",
    "1. Exploring the Dataset(**EDA**)\n",
    "2. Applying **Oversampling** Techniques\n",
    "3. Test various machine learning models using **Cross Validation** technique\n",
    "4. **Hyperparameter tune** the best model\n",
    "5. Analyse the best model with the help of relevant **Metrics** \n",
    "6. **Pickling** the best model \n",
    "7. Creating an **UI**(User Interface) with the help of **Streamlit** \n",
    "8. **Deployment** on **Heroku** platform\n",
    "9. A **sample prediction** will be made to test the application\n",
    "\n",
    "The 7th and 8th steps will be shown and explained with the help of screenshots."
   ]
  },
  {
   "cell_type": "markdown",
   "id": "510adda8",
   "metadata": {
    "papermill": {
     "duration": 0.02177,
     "end_time": "2023-04-12T22:01:26.620203",
     "exception": false,
     "start_time": "2023-04-12T22:01:26.598433",
     "status": "completed"
    },
    "tags": []
   },
   "source": [
    "Importing the necessary header files:"
   ]
  },
  {
   "cell_type": "code",
   "execution_count": 1,
   "id": "bdadec8c",
   "metadata": {
    "execution": {
     "iopub.execute_input": "2023-04-12T22:01:26.666051Z",
     "iopub.status.busy": "2023-04-12T22:01:26.664948Z",
     "iopub.status.idle": "2023-04-12T22:01:29.353846Z",
     "shell.execute_reply": "2023-04-12T22:01:29.352713Z"
    },
    "papermill": {
     "duration": 2.715138,
     "end_time": "2023-04-12T22:01:29.356886",
     "exception": false,
     "start_time": "2023-04-12T22:01:26.641748",
     "status": "completed"
    },
    "tags": []
   },
   "outputs": [
    {
     "data": {
      "text/html": [
       "<style type='text/css'>\n",
       ".datatable table.frame { margin-bottom: 0; }\n",
       ".datatable table.frame thead { border-bottom: none; }\n",
       ".datatable table.frame tr.coltypes td {  color: #FFFFFF;  line-height: 6px;  padding: 0 0.5em;}\n",
       ".datatable .bool    { background: #DDDD99; }\n",
       ".datatable .object  { background: #565656; }\n",
       ".datatable .int     { background: #5D9E5D; }\n",
       ".datatable .float   { background: #4040CC; }\n",
       ".datatable .str     { background: #CC4040; }\n",
       ".datatable .time    { background: #40CC40; }\n",
       ".datatable .row_index {  background: var(--jp-border-color3);  border-right: 1px solid var(--jp-border-color0);  color: var(--jp-ui-font-color3);  font-size: 9px;}\n",
       ".datatable .frame tbody td { text-align: left; }\n",
       ".datatable .frame tr.coltypes .row_index {  background: var(--jp-border-color0);}\n",
       ".datatable th:nth-child(2) { padding-left: 12px; }\n",
       ".datatable .hellipsis {  color: var(--jp-cell-editor-border-color);}\n",
       ".datatable .vellipsis {  background: var(--jp-layout-color0);  color: var(--jp-cell-editor-border-color);}\n",
       ".datatable .na {  color: var(--jp-cell-editor-border-color);  font-size: 80%;}\n",
       ".datatable .sp {  opacity: 0.25;}\n",
       ".datatable .footer { font-size: 9px; }\n",
       ".datatable .frame_dimensions {  background: var(--jp-border-color3);  border-top: 1px solid var(--jp-border-color0);  color: var(--jp-ui-font-color3);  display: inline-block;  opacity: 0.6;  padding: 1px 10px 1px 5px;}\n",
       "</style>\n"
      ],
      "text/plain": [
       "<IPython.core.display.HTML object>"
      ]
     },
     "metadata": {},
     "output_type": "display_data"
    }
   ],
   "source": [
    "## Basic Libraries:\n",
    "import pandas as pd\n",
    "pd.options.display.max_colwidth=150   ## this is used to set the column width.\n",
    "\n",
    "## Note: Other available must know options are:\n",
    "# pd.options.display.max_rows=x  ## controls the max rows to be displayed on screen\n",
    "# pd.options.display.max_columns=x  ## controls the max columns to be displayed on screen\n",
    "# pd.options.display.precision=x  ## controls the precision of each floating points to be displayed on screen\n",
    "# pd.options.display.float_format = '{:.2f}%'.format  ## controls the format of displaying numbers on screen. \n",
    "                                                      ## For eg.{$(:,.2f)} can be used for currency\n",
    "\n",
    "import numpy as np\n",
    "import matplotlib.pyplot as plt\n",
    "import seaborn as sns \n",
    "import time\n",
    "import warnings\n",
    "warnings.filterwarnings(\"ignore\")\n",
    "%matplotlib inline \n",
    "\n",
    "plt.style.use('fivethirtyeight') ## Setting the Style\n",
    "\n",
    "## For making sample data:\n",
    "from sklearn.datasets import make_classification\n",
    "\n",
    "## For Preprocessing: \n",
    "from sklearn.compose import ColumnTransformer,make_column_selector\n",
    "from sklearn.model_selection import train_test_split, RandomizedSearchCV, cross_val_score, RepeatedKFold,RepeatedStratifiedKFold\n",
    "from sklearn.preprocessing import OneHotEncoder, StandardScaler, LabelEncoder\n",
    "from sklearn.experimental import enable_iterative_imputer\n",
    "from sklearn.impute import IterativeImputer\n",
    "# from sklearn.base import TransformerMixin,BaseEstimator\n",
    "\n",
    "## Using imblearn library:\n",
    "from imblearn.over_sampling import SMOTE\n",
    "from imblearn.pipeline import Pipeline\n",
    "\n",
    "## Using msno Library for Missing Value analysis:\n",
    "import missingno as msno\n",
    "\n",
    "## For Metrics:\n",
    "from sklearn.metrics import plot_precision_recall_curve,accuracy_score,matthews_corrcoef\n",
    "from sklearn.metrics import roc_curve, roc_auc_score, auc\n",
    "from sklearn.metrics import plot_confusion_matrix, confusion_matrix, classification_report\n",
    "from sklearn.model_selection import learning_curve\n",
    "\n",
    "## For Machine Learning Models:\n",
    "from sklearn.linear_model import LogisticRegression,LinearRegression\n",
    "from sklearn.neighbors import KNeighborsClassifier,KNeighborsRegressor\n",
    "from sklearn.svm import SVC\n",
    "from sklearn.naive_bayes import GaussianNB\n",
    "from sklearn.tree import DecisionTreeClassifier\n",
    "from sklearn.ensemble import RandomForestClassifier,RandomForestRegressor\n",
    "from xgboost import XGBClassifier\n",
    "from lightgbm import LGBMClassifier\n",
    "from catboost import CatBoostClassifier\n",
    "\n",
    "## For Pickling:\n",
    "import pickle"
   ]
  },
  {
   "cell_type": "code",
   "execution_count": 2,
   "id": "877ce23f",
   "metadata": {
    "execution": {
     "iopub.execute_input": "2023-04-12T22:01:29.401529Z",
     "iopub.status.busy": "2023-04-12T22:01:29.401095Z",
     "iopub.status.idle": "2023-04-12T22:01:29.405837Z",
     "shell.execute_reply": "2023-04-12T22:01:29.404695Z"
    },
    "papermill": {
     "duration": 0.02924,
     "end_time": "2023-04-12T22:01:29.408067",
     "exception": false,
     "start_time": "2023-04-12T22:01:29.378827",
     "status": "completed"
    },
    "tags": []
   },
   "outputs": [],
   "source": [
    "## Setting the seed to allow reproducibility\n",
    "np.random.seed(31415)"
   ]
  },
  {
   "cell_type": "markdown",
   "id": "e94dc58b",
   "metadata": {
    "papermill": {
     "duration": 0.020425,
     "end_time": "2023-04-12T22:01:29.449363",
     "exception": false,
     "start_time": "2023-04-12T22:01:29.428938",
     "status": "completed"
    },
    "tags": []
   },
   "source": [
    "# 1. Exploring the Dataset(EDA)"
   ]
  },
  {
   "cell_type": "markdown",
   "id": "32c3cd7d",
   "metadata": {
    "papermill": {
     "duration": 0.020486,
     "end_time": "2023-04-12T22:01:29.490608",
     "exception": false,
     "start_time": "2023-04-12T22:01:29.470122",
     "status": "completed"
    },
    "tags": []
   },
   "source": [
    "## About the Dataset:\n",
    "\n",
    "### Link to the dataset: https://www.kaggle.com/datasets/laotse/credit-risk-dataset\n",
    "\n",
    "### The dataset consists of the following features:\n",
    "\n",
    "#### -- Independent Variables:\n",
    "\n",
    "- Name:\tDescription\n",
    "\n",
    "- person_age:\tAge of the person \n",
    "\n",
    "- person_income:\tAnnual Income\n",
    "\n",
    "- person_home_ownership:\tHome ownership\n",
    "\n",
    "- person_emp_length:\tEmployment length (in years)\n",
    "\n",
    "- loan_intent:\tLoan intent\n",
    "\n",
    "- loan_grade:\tLoan grade\n",
    "\n",
    "- loan_amnt:\tLoan amount\n",
    "\n",
    "- loan_int_rate:\tInterest rate\n",
    "\n",
    "- loan_percent_income:\tPercent income\n",
    "\n",
    "- cb_person_default_on_file:\tHistorical default\n",
    "\n",
    "- cb_person_cred_hist_length:\tCredit history length\n",
    "\n",
    "#### -- Target Variable:\n",
    "\n",
    "- loan_status:\tLoan status (0 is non-default/1 is default)"
   ]
  },
  {
   "cell_type": "markdown",
   "id": "60b2caf2",
   "metadata": {
    "papermill": {
     "duration": 0.02093,
     "end_time": "2023-04-12T22:01:29.532740",
     "exception": false,
     "start_time": "2023-04-12T22:01:29.511810",
     "status": "completed"
    },
    "tags": []
   },
   "source": [
    "### Reading the dataset:"
   ]
  },
  {
   "cell_type": "code",
   "execution_count": 3,
   "id": "6b99f47d",
   "metadata": {
    "execution": {
     "iopub.execute_input": "2023-04-12T22:01:29.577060Z",
     "iopub.status.busy": "2023-04-12T22:01:29.576321Z",
     "iopub.status.idle": "2023-04-12T22:01:29.692701Z",
     "shell.execute_reply": "2023-04-12T22:01:29.691503Z"
    },
    "papermill": {
     "duration": 0.141414,
     "end_time": "2023-04-12T22:01:29.695079",
     "exception": false,
     "start_time": "2023-04-12T22:01:29.553665",
     "status": "completed"
    },
    "tags": []
   },
   "outputs": [
    {
     "data": {
      "text/html": [
       "<div>\n",
       "<style scoped>\n",
       "    .dataframe tbody tr th:only-of-type {\n",
       "        vertical-align: middle;\n",
       "    }\n",
       "\n",
       "    .dataframe tbody tr th {\n",
       "        vertical-align: top;\n",
       "    }\n",
       "\n",
       "    .dataframe thead th {\n",
       "        text-align: right;\n",
       "    }\n",
       "</style>\n",
       "<table border=\"1\" class=\"dataframe\">\n",
       "  <thead>\n",
       "    <tr style=\"text-align: right;\">\n",
       "      <th></th>\n",
       "      <th>person_age</th>\n",
       "      <th>person_income</th>\n",
       "      <th>person_home_ownership</th>\n",
       "      <th>person_emp_length</th>\n",
       "      <th>loan_intent</th>\n",
       "      <th>loan_grade</th>\n",
       "      <th>loan_amnt</th>\n",
       "      <th>loan_int_rate</th>\n",
       "      <th>loan_status</th>\n",
       "      <th>loan_percent_income</th>\n",
       "      <th>cb_person_default_on_file</th>\n",
       "      <th>cb_person_cred_hist_length</th>\n",
       "    </tr>\n",
       "  </thead>\n",
       "  <tbody>\n",
       "    <tr>\n",
       "      <th>0</th>\n",
       "      <td>22</td>\n",
       "      <td>59000</td>\n",
       "      <td>RENT</td>\n",
       "      <td>123.0</td>\n",
       "      <td>PERSONAL</td>\n",
       "      <td>D</td>\n",
       "      <td>35000</td>\n",
       "      <td>16.02</td>\n",
       "      <td>1</td>\n",
       "      <td>0.59</td>\n",
       "      <td>Y</td>\n",
       "      <td>3</td>\n",
       "    </tr>\n",
       "    <tr>\n",
       "      <th>1</th>\n",
       "      <td>21</td>\n",
       "      <td>9600</td>\n",
       "      <td>OWN</td>\n",
       "      <td>5.0</td>\n",
       "      <td>EDUCATION</td>\n",
       "      <td>B</td>\n",
       "      <td>1000</td>\n",
       "      <td>11.14</td>\n",
       "      <td>0</td>\n",
       "      <td>0.10</td>\n",
       "      <td>N</td>\n",
       "      <td>2</td>\n",
       "    </tr>\n",
       "    <tr>\n",
       "      <th>2</th>\n",
       "      <td>25</td>\n",
       "      <td>9600</td>\n",
       "      <td>MORTGAGE</td>\n",
       "      <td>1.0</td>\n",
       "      <td>MEDICAL</td>\n",
       "      <td>C</td>\n",
       "      <td>5500</td>\n",
       "      <td>12.87</td>\n",
       "      <td>1</td>\n",
       "      <td>0.57</td>\n",
       "      <td>N</td>\n",
       "      <td>3</td>\n",
       "    </tr>\n",
       "    <tr>\n",
       "      <th>3</th>\n",
       "      <td>23</td>\n",
       "      <td>65500</td>\n",
       "      <td>RENT</td>\n",
       "      <td>4.0</td>\n",
       "      <td>MEDICAL</td>\n",
       "      <td>C</td>\n",
       "      <td>35000</td>\n",
       "      <td>15.23</td>\n",
       "      <td>1</td>\n",
       "      <td>0.53</td>\n",
       "      <td>N</td>\n",
       "      <td>2</td>\n",
       "    </tr>\n",
       "    <tr>\n",
       "      <th>4</th>\n",
       "      <td>24</td>\n",
       "      <td>54400</td>\n",
       "      <td>RENT</td>\n",
       "      <td>8.0</td>\n",
       "      <td>MEDICAL</td>\n",
       "      <td>C</td>\n",
       "      <td>35000</td>\n",
       "      <td>14.27</td>\n",
       "      <td>1</td>\n",
       "      <td>0.55</td>\n",
       "      <td>Y</td>\n",
       "      <td>4</td>\n",
       "    </tr>\n",
       "  </tbody>\n",
       "</table>\n",
       "</div>"
      ],
      "text/plain": [
       "   person_age  person_income person_home_ownership  person_emp_length  \\\n",
       "0          22          59000                  RENT              123.0   \n",
       "1          21           9600                   OWN                5.0   \n",
       "2          25           9600              MORTGAGE                1.0   \n",
       "3          23          65500                  RENT                4.0   \n",
       "4          24          54400                  RENT                8.0   \n",
       "\n",
       "  loan_intent loan_grade  loan_amnt  loan_int_rate  loan_status  \\\n",
       "0    PERSONAL          D      35000          16.02            1   \n",
       "1   EDUCATION          B       1000          11.14            0   \n",
       "2     MEDICAL          C       5500          12.87            1   \n",
       "3     MEDICAL          C      35000          15.23            1   \n",
       "4     MEDICAL          C      35000          14.27            1   \n",
       "\n",
       "   loan_percent_income cb_person_default_on_file  cb_person_cred_hist_length  \n",
       "0                 0.59                         Y                           3  \n",
       "1                 0.10                         N                           2  \n",
       "2                 0.57                         N                           3  \n",
       "3                 0.53                         N                           2  \n",
       "4                 0.55                         Y                           4  "
      ]
     },
     "execution_count": 3,
     "metadata": {},
     "output_type": "execute_result"
    }
   ],
   "source": [
    "df = pd.read_csv(\"/kaggle/input/credit-risk-dataset/credit_risk_dataset.csv\")\n",
    "df.head()"
   ]
  },
  {
   "cell_type": "code",
   "execution_count": 4,
   "id": "fb2b04a3",
   "metadata": {
    "execution": {
     "iopub.execute_input": "2023-04-12T22:01:29.739599Z",
     "iopub.status.busy": "2023-04-12T22:01:29.738840Z",
     "iopub.status.idle": "2023-04-12T22:01:29.743240Z",
     "shell.execute_reply": "2023-04-12T22:01:29.742518Z"
    },
    "papermill": {
     "duration": 0.029157,
     "end_time": "2023-04-12T22:01:29.745325",
     "exception": false,
     "start_time": "2023-04-12T22:01:29.716168",
     "status": "completed"
    },
    "tags": []
   },
   "outputs": [],
   "source": [
    "# ## Using some sample of the data:\n",
    "# df=df.sample(n=1000).reset_index(drop=True)"
   ]
  },
  {
   "cell_type": "code",
   "execution_count": 5,
   "id": "18dc340e",
   "metadata": {
    "execution": {
     "iopub.execute_input": "2023-04-12T22:01:29.789363Z",
     "iopub.status.busy": "2023-04-12T22:01:29.788615Z",
     "iopub.status.idle": "2023-04-12T22:01:29.795737Z",
     "shell.execute_reply": "2023-04-12T22:01:29.794891Z"
    },
    "papermill": {
     "duration": 0.031576,
     "end_time": "2023-04-12T22:01:29.797856",
     "exception": false,
     "start_time": "2023-04-12T22:01:29.766280",
     "status": "completed"
    },
    "tags": []
   },
   "outputs": [
    {
     "data": {
      "text/plain": [
       "(32581, 12)"
      ]
     },
     "execution_count": 5,
     "metadata": {},
     "output_type": "execute_result"
    }
   ],
   "source": [
    "df.shape[0],df.shape[1]"
   ]
  },
  {
   "cell_type": "code",
   "execution_count": 6,
   "id": "2112ea63",
   "metadata": {
    "execution": {
     "iopub.execute_input": "2023-04-12T22:01:29.842228Z",
     "iopub.status.busy": "2023-04-12T22:01:29.841453Z",
     "iopub.status.idle": "2023-04-12T22:01:29.869690Z",
     "shell.execute_reply": "2023-04-12T22:01:29.868529Z"
    },
    "papermill": {
     "duration": 0.053455,
     "end_time": "2023-04-12T22:01:29.872404",
     "exception": false,
     "start_time": "2023-04-12T22:01:29.818949",
     "status": "completed"
    },
    "tags": []
   },
   "outputs": [
    {
     "name": "stdout",
     "output_type": "stream",
     "text": [
      "<class 'pandas.core.frame.DataFrame'>\n",
      "RangeIndex: 32581 entries, 0 to 32580\n",
      "Data columns (total 12 columns):\n",
      " #   Column                      Non-Null Count  Dtype  \n",
      "---  ------                      --------------  -----  \n",
      " 0   person_age                  32581 non-null  int64  \n",
      " 1   person_income               32581 non-null  int64  \n",
      " 2   person_home_ownership       32581 non-null  object \n",
      " 3   person_emp_length           31686 non-null  float64\n",
      " 4   loan_intent                 32581 non-null  object \n",
      " 5   loan_grade                  32581 non-null  object \n",
      " 6   loan_amnt                   32581 non-null  int64  \n",
      " 7   loan_int_rate               29465 non-null  float64\n",
      " 8   loan_status                 32581 non-null  int64  \n",
      " 9   loan_percent_income         32581 non-null  float64\n",
      " 10  cb_person_default_on_file   32581 non-null  object \n",
      " 11  cb_person_cred_hist_length  32581 non-null  int64  \n",
      "dtypes: float64(3), int64(5), object(4)\n",
      "memory usage: 3.0+ MB\n"
     ]
    }
   ],
   "source": [
    "df.info()"
   ]
  },
  {
   "cell_type": "code",
   "execution_count": 7,
   "id": "ff49c9d6",
   "metadata": {
    "execution": {
     "iopub.execute_input": "2023-04-12T22:01:29.917779Z",
     "iopub.status.busy": "2023-04-12T22:01:29.916857Z",
     "iopub.status.idle": "2023-04-12T22:01:29.961282Z",
     "shell.execute_reply": "2023-04-12T22:01:29.960238Z"
    },
    "papermill": {
     "duration": 0.069552,
     "end_time": "2023-04-12T22:01:29.963559",
     "exception": false,
     "start_time": "2023-04-12T22:01:29.894007",
     "status": "completed"
    },
    "tags": []
   },
   "outputs": [
    {
     "data": {
      "text/html": [
       "<div>\n",
       "<style scoped>\n",
       "    .dataframe tbody tr th:only-of-type {\n",
       "        vertical-align: middle;\n",
       "    }\n",
       "\n",
       "    .dataframe tbody tr th {\n",
       "        vertical-align: top;\n",
       "    }\n",
       "\n",
       "    .dataframe thead th {\n",
       "        text-align: right;\n",
       "    }\n",
       "</style>\n",
       "<table border=\"1\" class=\"dataframe\">\n",
       "  <thead>\n",
       "    <tr style=\"text-align: right;\">\n",
       "      <th></th>\n",
       "      <th>person_age</th>\n",
       "      <th>person_income</th>\n",
       "      <th>person_emp_length</th>\n",
       "      <th>loan_amnt</th>\n",
       "      <th>loan_int_rate</th>\n",
       "      <th>loan_status</th>\n",
       "      <th>loan_percent_income</th>\n",
       "      <th>cb_person_cred_hist_length</th>\n",
       "    </tr>\n",
       "  </thead>\n",
       "  <tbody>\n",
       "    <tr>\n",
       "      <th>count</th>\n",
       "      <td>32581.000000</td>\n",
       "      <td>3.258100e+04</td>\n",
       "      <td>31686.000000</td>\n",
       "      <td>32581.000000</td>\n",
       "      <td>29465.000000</td>\n",
       "      <td>32581.000000</td>\n",
       "      <td>32581.000000</td>\n",
       "      <td>32581.000000</td>\n",
       "    </tr>\n",
       "    <tr>\n",
       "      <th>mean</th>\n",
       "      <td>27.734600</td>\n",
       "      <td>6.607485e+04</td>\n",
       "      <td>4.789686</td>\n",
       "      <td>9589.371106</td>\n",
       "      <td>11.011695</td>\n",
       "      <td>0.218164</td>\n",
       "      <td>0.170203</td>\n",
       "      <td>5.804211</td>\n",
       "    </tr>\n",
       "    <tr>\n",
       "      <th>std</th>\n",
       "      <td>6.348078</td>\n",
       "      <td>6.198312e+04</td>\n",
       "      <td>4.142630</td>\n",
       "      <td>6322.086646</td>\n",
       "      <td>3.240459</td>\n",
       "      <td>0.413006</td>\n",
       "      <td>0.106782</td>\n",
       "      <td>4.055001</td>\n",
       "    </tr>\n",
       "    <tr>\n",
       "      <th>min</th>\n",
       "      <td>20.000000</td>\n",
       "      <td>4.000000e+03</td>\n",
       "      <td>0.000000</td>\n",
       "      <td>500.000000</td>\n",
       "      <td>5.420000</td>\n",
       "      <td>0.000000</td>\n",
       "      <td>0.000000</td>\n",
       "      <td>2.000000</td>\n",
       "    </tr>\n",
       "    <tr>\n",
       "      <th>25%</th>\n",
       "      <td>23.000000</td>\n",
       "      <td>3.850000e+04</td>\n",
       "      <td>2.000000</td>\n",
       "      <td>5000.000000</td>\n",
       "      <td>7.900000</td>\n",
       "      <td>0.000000</td>\n",
       "      <td>0.090000</td>\n",
       "      <td>3.000000</td>\n",
       "    </tr>\n",
       "    <tr>\n",
       "      <th>50%</th>\n",
       "      <td>26.000000</td>\n",
       "      <td>5.500000e+04</td>\n",
       "      <td>4.000000</td>\n",
       "      <td>8000.000000</td>\n",
       "      <td>10.990000</td>\n",
       "      <td>0.000000</td>\n",
       "      <td>0.150000</td>\n",
       "      <td>4.000000</td>\n",
       "    </tr>\n",
       "    <tr>\n",
       "      <th>75%</th>\n",
       "      <td>30.000000</td>\n",
       "      <td>7.920000e+04</td>\n",
       "      <td>7.000000</td>\n",
       "      <td>12200.000000</td>\n",
       "      <td>13.470000</td>\n",
       "      <td>0.000000</td>\n",
       "      <td>0.230000</td>\n",
       "      <td>8.000000</td>\n",
       "    </tr>\n",
       "    <tr>\n",
       "      <th>max</th>\n",
       "      <td>144.000000</td>\n",
       "      <td>6.000000e+06</td>\n",
       "      <td>123.000000</td>\n",
       "      <td>35000.000000</td>\n",
       "      <td>23.220000</td>\n",
       "      <td>1.000000</td>\n",
       "      <td>0.830000</td>\n",
       "      <td>30.000000</td>\n",
       "    </tr>\n",
       "  </tbody>\n",
       "</table>\n",
       "</div>"
      ],
      "text/plain": [
       "         person_age  person_income  person_emp_length     loan_amnt  \\\n",
       "count  32581.000000   3.258100e+04       31686.000000  32581.000000   \n",
       "mean      27.734600   6.607485e+04           4.789686   9589.371106   \n",
       "std        6.348078   6.198312e+04           4.142630   6322.086646   \n",
       "min       20.000000   4.000000e+03           0.000000    500.000000   \n",
       "25%       23.000000   3.850000e+04           2.000000   5000.000000   \n",
       "50%       26.000000   5.500000e+04           4.000000   8000.000000   \n",
       "75%       30.000000   7.920000e+04           7.000000  12200.000000   \n",
       "max      144.000000   6.000000e+06         123.000000  35000.000000   \n",
       "\n",
       "       loan_int_rate   loan_status  loan_percent_income  \\\n",
       "count   29465.000000  32581.000000         32581.000000   \n",
       "mean       11.011695      0.218164             0.170203   \n",
       "std         3.240459      0.413006             0.106782   \n",
       "min         5.420000      0.000000             0.000000   \n",
       "25%         7.900000      0.000000             0.090000   \n",
       "50%        10.990000      0.000000             0.150000   \n",
       "75%        13.470000      0.000000             0.230000   \n",
       "max        23.220000      1.000000             0.830000   \n",
       "\n",
       "       cb_person_cred_hist_length  \n",
       "count                32581.000000  \n",
       "mean                     5.804211  \n",
       "std                      4.055001  \n",
       "min                      2.000000  \n",
       "25%                      3.000000  \n",
       "50%                      4.000000  \n",
       "75%                      8.000000  \n",
       "max                     30.000000  "
      ]
     },
     "execution_count": 7,
     "metadata": {},
     "output_type": "execute_result"
    }
   ],
   "source": [
    "df.describe()"
   ]
  },
  {
   "cell_type": "code",
   "execution_count": 8,
   "id": "8d13a557",
   "metadata": {
    "execution": {
     "iopub.execute_input": "2023-04-12T22:01:30.008964Z",
     "iopub.status.busy": "2023-04-12T22:01:30.008546Z",
     "iopub.status.idle": "2023-04-12T22:01:30.035596Z",
     "shell.execute_reply": "2023-04-12T22:01:30.034510Z"
    },
    "papermill": {
     "duration": 0.052388,
     "end_time": "2023-04-12T22:01:30.037946",
     "exception": false,
     "start_time": "2023-04-12T22:01:29.985558",
     "status": "completed"
    },
    "tags": []
   },
   "outputs": [
    {
     "data": {
      "text/plain": [
       "False    32416\n",
       "True       165\n",
       "dtype: int64"
      ]
     },
     "execution_count": 8,
     "metadata": {},
     "output_type": "execute_result"
    }
   ],
   "source": [
    "## Checking for Duplicates\n",
    "dups = df.duplicated()\n",
    "dups.value_counts() #There are 165 Duplicated rows"
   ]
  },
  {
   "cell_type": "code",
   "execution_count": 9,
   "id": "d8ef450e",
   "metadata": {
    "execution": {
     "iopub.execute_input": "2023-04-12T22:01:30.083691Z",
     "iopub.status.busy": "2023-04-12T22:01:30.083275Z",
     "iopub.status.idle": "2023-04-12T22:01:30.109340Z",
     "shell.execute_reply": "2023-04-12T22:01:30.108064Z"
    },
    "papermill": {
     "duration": 0.051457,
     "end_time": "2023-04-12T22:01:30.111600",
     "exception": false,
     "start_time": "2023-04-12T22:01:30.060143",
     "status": "completed"
    },
    "tags": []
   },
   "outputs": [
    {
     "name": "stdout",
     "output_type": "stream",
     "text": [
      "Shape of Data before removing duplicates -----> (32581,12) \n",
      "\n",
      "Shape of Data after removing duplicates -----> (32416,12)\n"
     ]
    }
   ],
   "source": [
    "## Removing the Duplicates\n",
    "print(f\"Shape of Data before removing duplicates -----> ({df.shape[0]},{df.shape[1]}) \\n\")\n",
    "df.drop_duplicates(inplace=True)\n",
    "print(f\"Shape of Data after removing duplicates -----> ({df.shape[0]},{df.shape[1]})\")"
   ]
  },
  {
   "cell_type": "code",
   "execution_count": 10,
   "id": "2f019623",
   "metadata": {
    "execution": {
     "iopub.execute_input": "2023-04-12T22:01:30.157429Z",
     "iopub.status.busy": "2023-04-12T22:01:30.157026Z",
     "iopub.status.idle": "2023-04-12T22:01:30.168207Z",
     "shell.execute_reply": "2023-04-12T22:01:30.167155Z"
    },
    "papermill": {
     "duration": 0.037109,
     "end_time": "2023-04-12T22:01:30.170733",
     "exception": false,
     "start_time": "2023-04-12T22:01:30.133624",
     "status": "completed"
    },
    "tags": []
   },
   "outputs": [
    {
     "name": "stdout",
     "output_type": "stream",
     "text": [
      "The number of Categorical columns are: 4\n",
      "The number of Numerical columns are: 8\n"
     ]
    }
   ],
   "source": [
    "ccol=df.select_dtypes(include=[\"object\"]).columns\n",
    "ncol=df.select_dtypes(include=[\"int\",\"float\"]).columns\n",
    "\n",
    "print(\"The number of Categorical columns are:\",len(ccol))\n",
    "print(\"The number of Numerical columns are:\",len(ncol))"
   ]
  },
  {
   "cell_type": "markdown",
   "id": "1f35f4a0",
   "metadata": {
    "papermill": {
     "duration": 0.021546,
     "end_time": "2023-04-12T22:01:30.214409",
     "exception": false,
     "start_time": "2023-04-12T22:01:30.192863",
     "status": "completed"
    },
    "tags": []
   },
   "source": [
    "#### - Printing the different columns with their cardinality (number of unique elements in each column):"
   ]
  },
  {
   "cell_type": "code",
   "execution_count": 11,
   "id": "b86ee374",
   "metadata": {
    "execution": {
     "iopub.execute_input": "2023-04-12T22:01:30.260330Z",
     "iopub.status.busy": "2023-04-12T22:01:30.259918Z",
     "iopub.status.idle": "2023-04-12T22:01:30.282146Z",
     "shell.execute_reply": "2023-04-12T22:01:30.280604Z"
    },
    "papermill": {
     "duration": 0.047662,
     "end_time": "2023-04-12T22:01:30.284220",
     "exception": false,
     "start_time": "2023-04-12T22:01:30.236558",
     "status": "completed"
    },
    "tags": []
   },
   "outputs": [
    {
     "name": "stdout",
     "output_type": "stream",
     "text": [
      "The NUMERICAL columns are:\n",
      "\n",
      "-> person_age - 58\n",
      "-> person_income - 4295\n",
      "-> person_emp_length - 36\n",
      "-> loan_amnt - 753\n",
      "-> loan_int_rate - 348\n",
      "-> loan_status - 2\n",
      "-> loan_percent_income - 77\n",
      "-> cb_person_cred_hist_length - 29\n",
      "\n",
      "---------------------------\n",
      "\n",
      "The CATEGORICAL columns are:\n",
      "\n",
      "-> person_home_ownership - 4\n",
      "-> loan_intent - 6\n",
      "-> loan_grade - 7\n",
      "-> cb_person_default_on_file - 2\n"
     ]
    }
   ],
   "source": [
    "print(\"The NUMERICAL columns are:\\n\")\n",
    "for i in ncol:\n",
    "    print(\"->\",i,\"-\",df[i].nunique())\n",
    "    \n",
    "print(\"\\n---------------------------\\n\")\n",
    "print(\"The CATEGORICAL columns are:\\n\")\n",
    "for i in ccol:\n",
    "    print(\"->\",i,\"-\",df[i].nunique())"
   ]
  },
  {
   "cell_type": "markdown",
   "id": "d80b4aa3",
   "metadata": {
    "papermill": {
     "duration": 0.021871,
     "end_time": "2023-04-12T22:01:30.328442",
     "exception": false,
     "start_time": "2023-04-12T22:01:30.306571",
     "status": "completed"
    },
    "tags": []
   },
   "source": [
    "#### **'loan_int_rate' describes the Interest Rate offered on Loans by Banks or any financial institution. There is no fixed value as it varies from bank to bank. Hence I am removing this column for our analysis.**"
   ]
  },
  {
   "cell_type": "code",
   "execution_count": 12,
   "id": "c0c18bb4",
   "metadata": {
    "execution": {
     "iopub.execute_input": "2023-04-12T22:01:30.374720Z",
     "iopub.status.busy": "2023-04-12T22:01:30.374296Z",
     "iopub.status.idle": "2023-04-12T22:01:30.382561Z",
     "shell.execute_reply": "2023-04-12T22:01:30.381526Z"
    },
    "papermill": {
     "duration": 0.033915,
     "end_time": "2023-04-12T22:01:30.384866",
     "exception": false,
     "start_time": "2023-04-12T22:01:30.350951",
     "status": "completed"
    },
    "tags": []
   },
   "outputs": [],
   "source": [
    "df.drop(['loan_int_rate'],axis=1,inplace=True)"
   ]
  },
  {
   "cell_type": "markdown",
   "id": "ba065c74",
   "metadata": {
    "papermill": {
     "duration": 0.022547,
     "end_time": "2023-04-12T22:01:30.429954",
     "exception": false,
     "start_time": "2023-04-12T22:01:30.407407",
     "status": "completed"
    },
    "tags": []
   },
   "source": [
    "#### - Analysing the categorical variables:"
   ]
  },
  {
   "cell_type": "code",
   "execution_count": 13,
   "id": "97b6d11c",
   "metadata": {
    "execution": {
     "iopub.execute_input": "2023-04-12T22:01:30.476681Z",
     "iopub.status.busy": "2023-04-12T22:01:30.476252Z",
     "iopub.status.idle": "2023-04-12T22:01:30.485971Z",
     "shell.execute_reply": "2023-04-12T22:01:30.484934Z"
    },
    "papermill": {
     "duration": 0.035445,
     "end_time": "2023-04-12T22:01:30.488094",
     "exception": false,
     "start_time": "2023-04-12T22:01:30.452649",
     "status": "completed"
    },
    "tags": []
   },
   "outputs": [
    {
     "data": {
      "text/plain": [
       "array(['PERSONAL', 'EDUCATION', 'MEDICAL', 'VENTURE', 'HOMEIMPROVEMENT',\n",
       "       'DEBTCONSOLIDATION'], dtype=object)"
      ]
     },
     "execution_count": 13,
     "metadata": {},
     "output_type": "execute_result"
    }
   ],
   "source": [
    "df[\"loan_intent\"].unique()"
   ]
  },
  {
   "cell_type": "code",
   "execution_count": 14,
   "id": "73eb67ba",
   "metadata": {
    "execution": {
     "iopub.execute_input": "2023-04-12T22:01:30.534539Z",
     "iopub.status.busy": "2023-04-12T22:01:30.534114Z",
     "iopub.status.idle": "2023-04-12T22:01:30.540909Z",
     "shell.execute_reply": "2023-04-12T22:01:30.539791Z"
    },
    "papermill": {
     "duration": 0.032777,
     "end_time": "2023-04-12T22:01:30.543259",
     "exception": false,
     "start_time": "2023-04-12T22:01:30.510482",
     "status": "completed"
    },
    "tags": []
   },
   "outputs": [
    {
     "data": {
      "text/plain": [
       "Index(['person_age', 'person_income', 'person_home_ownership',\n",
       "       'person_emp_length', 'loan_intent', 'loan_grade', 'loan_amnt',\n",
       "       'loan_status', 'loan_percent_income', 'cb_person_default_on_file',\n",
       "       'cb_person_cred_hist_length'],\n",
       "      dtype='object')"
      ]
     },
     "execution_count": 14,
     "metadata": {},
     "output_type": "execute_result"
    }
   ],
   "source": [
    "df.columns"
   ]
  },
  {
   "cell_type": "markdown",
   "id": "0a72384e",
   "metadata": {
    "papermill": {
     "duration": 0.022419,
     "end_time": "2023-04-12T22:01:30.588204",
     "exception": false,
     "start_time": "2023-04-12T22:01:30.565785",
     "status": "completed"
    },
    "tags": []
   },
   "source": [
    "#### - Analysing the Target variable i.e. 'loan_status':"
   ]
  },
  {
   "cell_type": "code",
   "execution_count": 15,
   "id": "34ffb024",
   "metadata": {
    "execution": {
     "iopub.execute_input": "2023-04-12T22:01:30.634975Z",
     "iopub.status.busy": "2023-04-12T22:01:30.634591Z",
     "iopub.status.idle": "2023-04-12T22:01:30.642539Z",
     "shell.execute_reply": "2023-04-12T22:01:30.641766Z"
    },
    "papermill": {
     "duration": 0.033629,
     "end_time": "2023-04-12T22:01:30.644433",
     "exception": false,
     "start_time": "2023-04-12T22:01:30.610804",
     "status": "completed"
    },
    "tags": []
   },
   "outputs": [
    {
     "data": {
      "text/plain": [
       "0    0.781312\n",
       "1    0.218688\n",
       "Name: loan_status, dtype: float64"
      ]
     },
     "execution_count": 15,
     "metadata": {},
     "output_type": "execute_result"
    }
   ],
   "source": [
    "df[\"loan_status\"].value_counts(normalize=True)"
   ]
  },
  {
   "cell_type": "markdown",
   "id": "44482752",
   "metadata": {
    "papermill": {
     "duration": 0.021683,
     "end_time": "2023-04-12T22:01:30.688421",
     "exception": false,
     "start_time": "2023-04-12T22:01:30.666738",
     "status": "completed"
    },
    "tags": []
   },
   "source": [
    "#### The Data is highly **IMBALANCED**. We will deal with oversampling techniques like KNN-SMOTE to solve this issue."
   ]
  },
  {
   "cell_type": "markdown",
   "id": "b053ab69",
   "metadata": {
    "papermill": {
     "duration": 0.021769,
     "end_time": "2023-04-12T22:01:30.732310",
     "exception": false,
     "start_time": "2023-04-12T22:01:30.710541",
     "status": "completed"
    },
    "tags": []
   },
   "source": [
    "### - Checking for Missing Data:"
   ]
  },
  {
   "cell_type": "markdown",
   "id": "33c3a482",
   "metadata": {
    "papermill": {
     "duration": 0.021741,
     "end_time": "2023-04-12T22:01:30.776289",
     "exception": false,
     "start_time": "2023-04-12T22:01:30.754548",
     "status": "completed"
    },
    "tags": []
   },
   "source": [
    "#### Missing data, or missing values, occur when you don’t have data stored for certain variables or participants. Data can go missing due to incomplete data entry, equipment malfunctions, lost files, and many other reasons.\n",
    "\n",
    "#### There are typically 3 types of missing values:\n",
    "\n",
    "**1. Missing completely at random (MCAR)**\n",
    "\n",
    "**2. Missing at random (MAR)**\n",
    "\n",
    "**3. Missing not at random (MNAR)**\n",
    "\n",
    "#### **Problems:**\n",
    "\n",
    "#### Missing data are problematic because, depending on the type, they can sometimes cause sampling bias. This means your results may not be generalizable outside of your study because your data come from an unrepresentative sample."
   ]
  },
  {
   "cell_type": "code",
   "execution_count": 16,
   "id": "35221b8b",
   "metadata": {
    "execution": {
     "iopub.execute_input": "2023-04-12T22:01:30.822470Z",
     "iopub.status.busy": "2023-04-12T22:01:30.821758Z",
     "iopub.status.idle": "2023-04-12T22:01:30.836831Z",
     "shell.execute_reply": "2023-04-12T22:01:30.835647Z"
    },
    "papermill": {
     "duration": 0.040462,
     "end_time": "2023-04-12T22:01:30.838962",
     "exception": false,
     "start_time": "2023-04-12T22:01:30.798500",
     "status": "completed"
    },
    "tags": []
   },
   "outputs": [
    {
     "data": {
      "text/plain": [
       "person_age                    False\n",
       "person_income                 False\n",
       "person_home_ownership         False\n",
       "person_emp_length              True\n",
       "loan_intent                   False\n",
       "loan_grade                    False\n",
       "loan_amnt                     False\n",
       "loan_status                   False\n",
       "loan_percent_income           False\n",
       "cb_person_default_on_file     False\n",
       "cb_person_cred_hist_length    False\n",
       "dtype: bool"
      ]
     },
     "execution_count": 16,
     "metadata": {},
     "output_type": "execute_result"
    }
   ],
   "source": [
    "## Checking for Missing values:\n",
    "df.isnull().any()"
   ]
  },
  {
   "cell_type": "code",
   "execution_count": 17,
   "id": "765309eb",
   "metadata": {
    "execution": {
     "iopub.execute_input": "2023-04-12T22:01:30.886377Z",
     "iopub.status.busy": "2023-04-12T22:01:30.885729Z",
     "iopub.status.idle": "2023-04-12T22:01:30.899889Z",
     "shell.execute_reply": "2023-04-12T22:01:30.898992Z"
    },
    "papermill": {
     "duration": 0.040256,
     "end_time": "2023-04-12T22:01:30.901944",
     "exception": false,
     "start_time": "2023-04-12T22:01:30.861688",
     "status": "completed"
    },
    "tags": []
   },
   "outputs": [
    {
     "data": {
      "text/plain": [
       "person_age                      0\n",
       "person_income                   0\n",
       "person_home_ownership           0\n",
       "person_emp_length             887\n",
       "loan_intent                     0\n",
       "loan_grade                      0\n",
       "loan_amnt                       0\n",
       "loan_status                     0\n",
       "loan_percent_income             0\n",
       "cb_person_default_on_file       0\n",
       "cb_person_cred_hist_length      0\n",
       "dtype: int64"
      ]
     },
     "execution_count": 17,
     "metadata": {},
     "output_type": "execute_result"
    }
   ],
   "source": [
    "df.isna().sum()"
   ]
  },
  {
   "cell_type": "code",
   "execution_count": 18,
   "id": "083863e7",
   "metadata": {
    "execution": {
     "iopub.execute_input": "2023-04-12T22:01:30.949877Z",
     "iopub.status.busy": "2023-04-12T22:01:30.948722Z",
     "iopub.status.idle": "2023-04-12T22:01:31.361661Z",
     "shell.execute_reply": "2023-04-12T22:01:31.360538Z"
    },
    "papermill": {
     "duration": 0.440159,
     "end_time": "2023-04-12T22:01:31.364956",
     "exception": false,
     "start_time": "2023-04-12T22:01:30.924797",
     "status": "completed"
    },
    "tags": []
   },
   "outputs": [
    {
     "data": {
      "image/png": "[encoded data removed]",
      "text/plain": [
       "<Figure size 1080x720 with 1 Axes>"
      ]
     },
     "metadata": {},
     "output_type": "display_data"
    }
   ],
   "source": [
    "mn=df.isna().sum()\n",
    "mn=pd.DataFrame(mn,columns=[\"missing_count\"]).reset_index()\n",
    "mn.columns=[\"columns_names\",\"missing_count\"]\n",
    "\n",
    "sns.set_theme(style=\"darkgrid\")\n",
    "plt.figure(figsize=(15,10))\n",
    "plots=sns.barplot(x=mn.columns_names,y=mn.missing_count)\n",
    "# Iterating over the bars one-by-one\n",
    "for bar in plots.patches:\n",
    "    plots.annotate(format(bar.get_height(), '.2f'),\n",
    "                   (bar.get_x() + bar.get_width() / 2,\n",
    "                    bar.get_height()), ha='center', va='center',\n",
    "                   size=12, xytext=(0, 8),\n",
    "                   textcoords='offset points')\n",
    "plt.xticks(rotation=45) #Rotating the Label\n",
    "plt.title(\"Missing values in every column.\",size=25,weight=\"bold\") #Title of the plot\n",
    "plt.xlabel(\"Columns\",fontsize=20) #Title of x-axis\n",
    "plt.ylabel(\"Missing_Count\",fontsize=20)\n",
    "plt.tick_params(labelsize=10) #Varying label size\n",
    "plt.tight_layout()"
   ]
  },
  {
   "cell_type": "markdown",
   "id": "89b02b13",
   "metadata": {
    "papermill": {
     "duration": 0.022932,
     "end_time": "2023-04-12T22:01:31.413507",
     "exception": false,
     "start_time": "2023-04-12T22:01:31.390575",
     "status": "completed"
    },
    "tags": []
   },
   "source": [
    "### Using missing number visualiser to review the missing data:\n",
    "\n",
    "#### - On the **left** side of the plot, the y-axis scale ranges from 0.0 to 1.0, where 1.0 represents 100% data completeness. If the bar is less than this, it indicates that we have missing values within that column.\n",
    "\n",
    "#### - On the **right** side of the plot, the scale is measured in index values. With the top right representing the maximum number of rows within the dataframe.\n",
    "\n",
    "#### - Along the **top** of the plot, there are a series of numbers that represent the total count of the non-null values within that column."
   ]
  },
  {
   "cell_type": "code",
   "execution_count": 19,
   "id": "c6e7ff7f",
   "metadata": {
    "execution": {
     "iopub.execute_input": "2023-04-12T22:01:31.464872Z",
     "iopub.status.busy": "2023-04-12T22:01:31.464377Z",
     "iopub.status.idle": "2023-04-12T22:01:32.367339Z",
     "shell.execute_reply": "2023-04-12T22:01:32.366354Z"
    },
    "papermill": {
     "duration": 0.935306,
     "end_time": "2023-04-12T22:01:32.372253",
     "exception": false,
     "start_time": "2023-04-12T22:01:31.436947",
     "status": "completed"
    },
    "tags": []
   },
   "outputs": [
    {
     "data": {
      "text/plain": [
       "<AxesSubplot:>"
      ]
     },
     "execution_count": 19,
     "metadata": {},
     "output_type": "execute_result"
    },
    {
     "data": {
      "image/png": "[encoded data removed]",
      "text/plain": [
       "<Figure size 1728x720 with 3 Axes>"
      ]
     },
     "metadata": {},
     "output_type": "display_data"
    }
   ],
   "source": [
    "msno.bar(df)"
   ]
  },
  {
   "cell_type": "markdown",
   "id": "0be74b0b",
   "metadata": {
    "papermill": {
     "duration": 0.025247,
     "end_time": "2023-04-12T22:01:32.427561",
     "exception": false,
     "start_time": "2023-04-12T22:01:32.402314",
     "status": "completed"
    },
    "tags": []
   },
   "source": [
    "#### - The matrix plot is a great tool if you are working with depth-related data or time-series data. It provides a colour fill for each column. When data is present, the plot is shaded in grey (or your colour of choice), and when it is absent the plot is displayed in white."
   ]
  },
  {
   "cell_type": "code",
   "execution_count": 20,
   "id": "8a62581d",
   "metadata": {
    "execution": {
     "iopub.execute_input": "2023-04-12T22:01:32.481214Z",
     "iopub.status.busy": "2023-04-12T22:01:32.480838Z",
     "iopub.status.idle": "2023-04-12T22:01:33.257817Z",
     "shell.execute_reply": "2023-04-12T22:01:33.256515Z"
    },
    "papermill": {
     "duration": 0.806004,
     "end_time": "2023-04-12T22:01:33.260344",
     "exception": false,
     "start_time": "2023-04-12T22:01:32.454340",
     "status": "completed"
    },
    "tags": []
   },
   "outputs": [
    {
     "data": {
      "text/plain": [
       "<AxesSubplot:>"
      ]
     },
     "execution_count": 20,
     "metadata": {},
     "output_type": "execute_result"
    },
    {
     "data": {
      "image/png": "[encoded data removed]",
      "text/plain": [
       "<Figure size 1800x720 with 2 Axes>"
      ]
     },
     "metadata": {},
     "output_type": "display_data"
    }
   ],
   "source": [
    "msno.matrix(df)"
   ]
  },
  {
   "cell_type": "markdown",
   "id": "5e7b41e5",
   "metadata": {
    "papermill": {
     "duration": 0.026302,
     "end_time": "2023-04-12T22:01:33.314024",
     "exception": false,
     "start_time": "2023-04-12T22:01:33.287722",
     "status": "completed"
    },
    "tags": []
   },
   "source": [
    "#### - The heatmap is used to identify correlations of the nullity between each of the different columns. \n",
    "\n",
    "#### - Here no correlation is detected between columns having missing values."
   ]
  },
  {
   "cell_type": "code",
   "execution_count": 21,
   "id": "0f658d3a",
   "metadata": {
    "execution": {
     "iopub.execute_input": "2023-04-12T22:01:33.369518Z",
     "iopub.status.busy": "2023-04-12T22:01:33.369114Z",
     "iopub.status.idle": "2023-04-12T22:01:33.685109Z",
     "shell.execute_reply": "2023-04-12T22:01:33.683994Z"
    },
    "papermill": {
     "duration": 0.346923,
     "end_time": "2023-04-12T22:01:33.687732",
     "exception": false,
     "start_time": "2023-04-12T22:01:33.340809",
     "status": "completed"
    },
    "tags": []
   },
   "outputs": [
    {
     "data": {
      "text/plain": [
       "<AxesSubplot:>"
      ]
     },
     "execution_count": 21,
     "metadata": {},
     "output_type": "execute_result"
    },
    {
     "data": {
      "image/png": "[encoded data removed]",
      "text/plain": [
       "<Figure size 1440x864 with 2 Axes>"
      ]
     },
     "metadata": {},
     "output_type": "display_data"
    }
   ],
   "source": [
    "msno.heatmap(df)"
   ]
  },
  {
   "cell_type": "code",
   "execution_count": 22,
   "id": "6adf27a0",
   "metadata": {
    "execution": {
     "iopub.execute_input": "2023-04-12T22:01:33.744561Z",
     "iopub.status.busy": "2023-04-12T22:01:33.743833Z",
     "iopub.status.idle": "2023-04-12T22:01:33.869870Z",
     "shell.execute_reply": "2023-04-12T22:01:33.868739Z"
    },
    "papermill": {
     "duration": 0.15787,
     "end_time": "2023-04-12T22:01:33.873273",
     "exception": false,
     "start_time": "2023-04-12T22:01:33.715403",
     "status": "completed"
    },
    "tags": []
   },
   "outputs": [
    {
     "data": {
      "image/png": "[encoded data removed]",
      "text/plain": [
       "<Figure size 576x576 with 1 Axes>"
      ]
     },
     "metadata": {},
     "output_type": "display_data"
    }
   ],
   "source": [
    "## Missing values in each target class:\n",
    "#l=df.groupby([\"loan_status\"])[\"loan_int_rate\"].apply(lambda x:x.isnull().sum())\n",
    "p=df.groupby([\"loan_status\"])[\"person_emp_length\"].apply(lambda x:x.isnull().sum())\n",
    "\n",
    "fig,ax=plt.subplots(1,1,figsize=(8,8))\n",
    "# ax[0].set_title(\"Missing values in loan_int_rate\")\n",
    "# ax[0].pie(l.values, labels=l.index, colors=sns.color_palette('bright'), autopct='%.0f%%')\n",
    "\n",
    "ax.set_title(\"Missing values in person_emp_length\")\n",
    "ax.pie(p.values, labels=p.index, colors=sns.color_palette('cool'), autopct='%.0f%%')\n",
    "fig.show()"
   ]
  },
  {
   "cell_type": "markdown",
   "id": "8e4219ea",
   "metadata": {
    "papermill": {
     "duration": 0.033464,
     "end_time": "2023-04-12T22:01:33.952336",
     "exception": false,
     "start_time": "2023-04-12T22:01:33.918872",
     "status": "completed"
    },
    "tags": []
   },
   "source": [
    "#### NOTE: EVERY PREPROCESSING TECHNIQUE IS DONE ONLY ON THE TRAIN SET. SO SPLITTING IS MANDATORY BEFORE OUTLIER REMOVAL, MISSING VALUES HANDLING, OVERSAMPLING, ETC..."
   ]
  },
  {
   "cell_type": "markdown",
   "id": "0caaf3b5",
   "metadata": {
    "papermill": {
     "duration": 0.027186,
     "end_time": "2023-04-12T22:01:34.006743",
     "exception": false,
     "start_time": "2023-04-12T22:01:33.979557",
     "status": "completed"
    },
    "tags": []
   },
   "source": [
    "#### - Time to handle the missing values. First we will split the data:"
   ]
  },
  {
   "cell_type": "code",
   "execution_count": 23,
   "id": "7258050d",
   "metadata": {
    "execution": {
     "iopub.execute_input": "2023-04-12T22:01:34.063500Z",
     "iopub.status.busy": "2023-04-12T22:01:34.062982Z",
     "iopub.status.idle": "2023-04-12T22:01:34.090558Z",
     "shell.execute_reply": "2023-04-12T22:01:34.089148Z"
    },
    "papermill": {
     "duration": 0.059186,
     "end_time": "2023-04-12T22:01:34.093364",
     "exception": false,
     "start_time": "2023-04-12T22:01:34.034178",
     "status": "completed"
    },
    "tags": []
   },
   "outputs": [],
   "source": [
    "# X and y will represent the entire training data\n",
    "# X_test and y_test will be the sample data for model evaluation\n",
    "\n",
    "X, X_test, y, y_test = train_test_split(df.drop('loan_status', axis=1), df['loan_status'],\n",
    "                                        random_state=0,  test_size=0.2, stratify=df['loan_status'],\n",
    "                                        shuffle=True)"
   ]
  },
  {
   "cell_type": "markdown",
   "id": "6fc8e636",
   "metadata": {
    "papermill": {
     "duration": 0.027305,
     "end_time": "2023-04-12T22:01:34.148946",
     "exception": false,
     "start_time": "2023-04-12T22:01:34.121641",
     "status": "completed"
    },
    "tags": []
   },
   "source": [
    "#### - We have stratified sampled the data (checking the proportion of the target variable):"
   ]
  },
  {
   "cell_type": "code",
   "execution_count": 24,
   "id": "65ce5a32",
   "metadata": {
    "execution": {
     "iopub.execute_input": "2023-04-12T22:01:34.205526Z",
     "iopub.status.busy": "2023-04-12T22:01:34.205088Z",
     "iopub.status.idle": "2023-04-12T22:01:34.214487Z",
     "shell.execute_reply": "2023-04-12T22:01:34.213483Z"
    },
    "papermill": {
     "duration": 0.040414,
     "end_time": "2023-04-12T22:01:34.216853",
     "exception": false,
     "start_time": "2023-04-12T22:01:34.176439",
     "status": "completed"
    },
    "tags": []
   },
   "outputs": [
    {
     "data": {
      "text/plain": [
       "0    0.781313\n",
       "1    0.218687\n",
       "Name: loan_status, dtype: float64"
      ]
     },
     "execution_count": 24,
     "metadata": {},
     "output_type": "execute_result"
    }
   ],
   "source": [
    "y.value_counts(normalize=True)   #Note that the proportion remains the same because of stratify."
   ]
  },
  {
   "cell_type": "code",
   "execution_count": 25,
   "id": "638a81a9",
   "metadata": {
    "execution": {
     "iopub.execute_input": "2023-04-12T22:01:34.274992Z",
     "iopub.status.busy": "2023-04-12T22:01:34.273895Z",
     "iopub.status.idle": "2023-04-12T22:01:34.282763Z",
     "shell.execute_reply": "2023-04-12T22:01:34.281904Z"
    },
    "papermill": {
     "duration": 0.040283,
     "end_time": "2023-04-12T22:01:34.284928",
     "exception": false,
     "start_time": "2023-04-12T22:01:34.244645",
     "status": "completed"
    },
    "tags": []
   },
   "outputs": [
    {
     "data": {
      "text/plain": [
       "0    0.781308\n",
       "1    0.218692\n",
       "Name: loan_status, dtype: float64"
      ]
     },
     "execution_count": 25,
     "metadata": {},
     "output_type": "execute_result"
    }
   ],
   "source": [
    "y_test.value_counts(normalize=True)"
   ]
  },
  {
   "cell_type": "markdown",
   "id": "9b34b757",
   "metadata": {
    "papermill": {
     "duration": 0.028314,
     "end_time": "2023-04-12T22:01:34.340961",
     "exception": false,
     "start_time": "2023-04-12T22:01:34.312647",
     "status": "completed"
    },
    "tags": []
   },
   "source": [
    "#### The proportion is preserved!"
   ]
  },
  {
   "cell_type": "code",
   "execution_count": 26,
   "id": "41e979c1",
   "metadata": {
    "execution": {
     "iopub.execute_input": "2023-04-12T22:01:34.398271Z",
     "iopub.status.busy": "2023-04-12T22:01:34.397692Z",
     "iopub.status.idle": "2023-04-12T22:01:34.415516Z",
     "shell.execute_reply": "2023-04-12T22:01:34.414427Z"
    },
    "papermill": {
     "duration": 0.049455,
     "end_time": "2023-04-12T22:01:34.417931",
     "exception": false,
     "start_time": "2023-04-12T22:01:34.368476",
     "status": "completed"
    },
    "tags": []
   },
   "outputs": [
    {
     "data": {
      "text/plain": [
       "2.799629801018047"
      ]
     },
     "execution_count": 26,
     "metadata": {},
     "output_type": "execute_result"
    }
   ],
   "source": [
    "## Checking for missing values in train data:\n",
    "(X.shape[0]-X.dropna().shape[0])/X.shape[0]*100\n",
    "## There are 12% missing data in the train set"
   ]
  },
  {
   "cell_type": "code",
   "execution_count": 27,
   "id": "c5e3af2e",
   "metadata": {
    "execution": {
     "iopub.execute_input": "2023-04-12T22:01:34.476352Z",
     "iopub.status.busy": "2023-04-12T22:01:34.475204Z",
     "iopub.status.idle": "2023-04-12T22:01:34.515163Z",
     "shell.execute_reply": "2023-04-12T22:01:34.513757Z"
    },
    "papermill": {
     "duration": 0.071583,
     "end_time": "2023-04-12T22:01:34.517679",
     "exception": false,
     "start_time": "2023-04-12T22:01:34.446096",
     "status": "completed"
    },
    "tags": []
   },
   "outputs": [
    {
     "name": "stdout",
     "output_type": "stream",
     "text": [
      "person_age ---> 58\n",
      "\n",
      "person_income ---> 3680\n",
      "\n",
      "person_home_ownership ---> 4\n",
      "RENT        50.320068\n",
      "MORTGAGE    41.439149\n",
      "OWN          7.916859\n",
      "OTHER        0.323924\n",
      "Name: person_home_ownership, dtype: float64\n",
      "\n",
      "person_emp_length ---> 36\n",
      "\n",
      "loan_intent ---> 6\n",
      "EDUCATION            19.809502\n",
      "MEDICAL              18.787598\n",
      "VENTURE              17.542033\n",
      "PERSONAL             16.878760\n",
      "DEBTCONSOLIDATION    15.968687\n",
      "HOMEIMPROVEMENT      11.013420\n",
      "Name: loan_intent, dtype: float64\n",
      "\n",
      "loan_grade ---> 7\n",
      "A    32.932284\n",
      "B    32.126330\n",
      "C    19.902052\n",
      "D    11.121394\n",
      "E     3.004010\n",
      "F     0.732685\n",
      "G     0.181243\n",
      "Name: loan_grade, dtype: float64\n",
      "\n",
      "loan_amnt ---> 710\n",
      "\n",
      "loan_percent_income ---> 75\n",
      "\n",
      "cb_person_default_on_file ---> 2\n",
      "N    82.392411\n",
      "Y    17.607589\n",
      "Name: cb_person_default_on_file, dtype: float64\n",
      "\n",
      "cb_person_cred_hist_length ---> 29\n",
      "\n"
     ]
    }
   ],
   "source": [
    "#To print the number of unique values:\n",
    "for col in X:\n",
    "    print(col, '--->', X[col].nunique())\n",
    "    if X[col].nunique()<20:\n",
    "        print(X[col].value_counts(normalize=True)*100)\n",
    "    print()"
   ]
  },
  {
   "cell_type": "markdown",
   "id": "da5f80e6",
   "metadata": {
    "papermill": {
     "duration": 0.027873,
     "end_time": "2023-04-12T22:01:34.574102",
     "exception": false,
     "start_time": "2023-04-12T22:01:34.546229",
     "status": "completed"
    },
    "tags": []
   },
   "source": [
    "### **Removing Outliers** based on Domain Knowledge:"
   ]
  },
  {
   "cell_type": "markdown",
   "id": "0f3af145",
   "metadata": {
    "papermill": {
     "duration": 0.028135,
     "end_time": "2023-04-12T22:01:34.630733",
     "exception": false,
     "start_time": "2023-04-12T22:01:34.602598",
     "status": "completed"
    },
    "tags": []
   },
   "source": [
    "#### - Using common sense, we can exclude rows whose age is >80."
   ]
  },
  {
   "cell_type": "code",
   "execution_count": 28,
   "id": "eef2e9bc",
   "metadata": {
    "execution": {
     "iopub.execute_input": "2023-04-12T22:01:34.689726Z",
     "iopub.status.busy": "2023-04-12T22:01:34.688971Z",
     "iopub.status.idle": "2023-04-12T22:01:34.706674Z",
     "shell.execute_reply": "2023-04-12T22:01:34.705550Z"
    },
    "papermill": {
     "duration": 0.049485,
     "end_time": "2023-04-12T22:01:34.708926",
     "exception": false,
     "start_time": "2023-04-12T22:01:34.659441",
     "status": "completed"
    },
    "tags": []
   },
   "outputs": [
    {
     "data": {
      "text/html": [
       "<div>\n",
       "<style scoped>\n",
       "    .dataframe tbody tr th:only-of-type {\n",
       "        vertical-align: middle;\n",
       "    }\n",
       "\n",
       "    .dataframe tbody tr th {\n",
       "        vertical-align: top;\n",
       "    }\n",
       "\n",
       "    .dataframe thead th {\n",
       "        text-align: right;\n",
       "    }\n",
       "</style>\n",
       "<table border=\"1\" class=\"dataframe\">\n",
       "  <thead>\n",
       "    <tr style=\"text-align: right;\">\n",
       "      <th></th>\n",
       "      <th>person_age</th>\n",
       "      <th>person_income</th>\n",
       "      <th>person_home_ownership</th>\n",
       "      <th>person_emp_length</th>\n",
       "      <th>loan_intent</th>\n",
       "      <th>loan_grade</th>\n",
       "      <th>loan_amnt</th>\n",
       "      <th>loan_percent_income</th>\n",
       "      <th>cb_person_default_on_file</th>\n",
       "      <th>cb_person_cred_hist_length</th>\n",
       "    </tr>\n",
       "  </thead>\n",
       "  <tbody>\n",
       "    <tr>\n",
       "      <th>32422</th>\n",
       "      <td>80</td>\n",
       "      <td>64000</td>\n",
       "      <td>RENT</td>\n",
       "      <td>7.0</td>\n",
       "      <td>MEDICAL</td>\n",
       "      <td>B</td>\n",
       "      <td>6800</td>\n",
       "      <td>0.11</td>\n",
       "      <td>N</td>\n",
       "      <td>25</td>\n",
       "    </tr>\n",
       "    <tr>\n",
       "      <th>81</th>\n",
       "      <td>144</td>\n",
       "      <td>250000</td>\n",
       "      <td>RENT</td>\n",
       "      <td>4.0</td>\n",
       "      <td>VENTURE</td>\n",
       "      <td>C</td>\n",
       "      <td>4800</td>\n",
       "      <td>0.02</td>\n",
       "      <td>N</td>\n",
       "      <td>3</td>\n",
       "    </tr>\n",
       "    <tr>\n",
       "      <th>32416</th>\n",
       "      <td>94</td>\n",
       "      <td>24000</td>\n",
       "      <td>RENT</td>\n",
       "      <td>1.0</td>\n",
       "      <td>MEDICAL</td>\n",
       "      <td>C</td>\n",
       "      <td>6500</td>\n",
       "      <td>0.27</td>\n",
       "      <td>N</td>\n",
       "      <td>27</td>\n",
       "    </tr>\n",
       "    <tr>\n",
       "      <th>747</th>\n",
       "      <td>123</td>\n",
       "      <td>78000</td>\n",
       "      <td>RENT</td>\n",
       "      <td>7.0</td>\n",
       "      <td>VENTURE</td>\n",
       "      <td>B</td>\n",
       "      <td>20000</td>\n",
       "      <td>0.26</td>\n",
       "      <td>N</td>\n",
       "      <td>4</td>\n",
       "    </tr>\n",
       "    <tr>\n",
       "      <th>183</th>\n",
       "      <td>144</td>\n",
       "      <td>200000</td>\n",
       "      <td>MORTGAGE</td>\n",
       "      <td>4.0</td>\n",
       "      <td>EDUCATION</td>\n",
       "      <td>B</td>\n",
       "      <td>6000</td>\n",
       "      <td>0.03</td>\n",
       "      <td>N</td>\n",
       "      <td>2</td>\n",
       "    </tr>\n",
       "    <tr>\n",
       "      <th>575</th>\n",
       "      <td>123</td>\n",
       "      <td>80004</td>\n",
       "      <td>RENT</td>\n",
       "      <td>2.0</td>\n",
       "      <td>EDUCATION</td>\n",
       "      <td>B</td>\n",
       "      <td>20400</td>\n",
       "      <td>0.25</td>\n",
       "      <td>N</td>\n",
       "      <td>3</td>\n",
       "    </tr>\n",
       "    <tr>\n",
       "      <th>32506</th>\n",
       "      <td>84</td>\n",
       "      <td>94800</td>\n",
       "      <td>MORTGAGE</td>\n",
       "      <td>2.0</td>\n",
       "      <td>PERSONAL</td>\n",
       "      <td>A</td>\n",
       "      <td>10000</td>\n",
       "      <td>0.11</td>\n",
       "      <td>N</td>\n",
       "      <td>24</td>\n",
       "    </tr>\n",
       "    <tr>\n",
       "      <th>32297</th>\n",
       "      <td>144</td>\n",
       "      <td>6000000</td>\n",
       "      <td>MORTGAGE</td>\n",
       "      <td>12.0</td>\n",
       "      <td>PERSONAL</td>\n",
       "      <td>C</td>\n",
       "      <td>5000</td>\n",
       "      <td>0.00</td>\n",
       "      <td>N</td>\n",
       "      <td>25</td>\n",
       "    </tr>\n",
       "  </tbody>\n",
       "</table>\n",
       "</div>"
      ],
      "text/plain": [
       "       person_age  person_income person_home_ownership  person_emp_length  \\\n",
       "32422          80          64000                  RENT                7.0   \n",
       "81            144         250000                  RENT                4.0   \n",
       "32416          94          24000                  RENT                1.0   \n",
       "747           123          78000                  RENT                7.0   \n",
       "183           144         200000              MORTGAGE                4.0   \n",
       "575           123          80004                  RENT                2.0   \n",
       "32506          84          94800              MORTGAGE                2.0   \n",
       "32297         144        6000000              MORTGAGE               12.0   \n",
       "\n",
       "      loan_intent loan_grade  loan_amnt  loan_percent_income  \\\n",
       "32422     MEDICAL          B       6800                 0.11   \n",
       "81        VENTURE          C       4800                 0.02   \n",
       "32416     MEDICAL          C       6500                 0.27   \n",
       "747       VENTURE          B      20000                 0.26   \n",
       "183     EDUCATION          B       6000                 0.03   \n",
       "575     EDUCATION          B      20400                 0.25   \n",
       "32506    PERSONAL          A      10000                 0.11   \n",
       "32297    PERSONAL          C       5000                 0.00   \n",
       "\n",
       "      cb_person_default_on_file  cb_person_cred_hist_length  \n",
       "32422                         N                          25  \n",
       "81                            N                           3  \n",
       "32416                         N                          27  \n",
       "747                           N                           4  \n",
       "183                           N                           2  \n",
       "575                           N                           3  \n",
       "32506                         N                          24  \n",
       "32297                         N                          25  "
      ]
     },
     "execution_count": 28,
     "metadata": {},
     "output_type": "execute_result"
    }
   ],
   "source": [
    "X.loc[X['person_age']>=80, :]  "
   ]
  },
  {
   "cell_type": "code",
   "execution_count": 29,
   "id": "3b85ee40",
   "metadata": {
    "execution": {
     "iopub.execute_input": "2023-04-12T22:01:34.767240Z",
     "iopub.status.busy": "2023-04-12T22:01:34.766454Z",
     "iopub.status.idle": "2023-04-12T22:01:34.773472Z",
     "shell.execute_reply": "2023-04-12T22:01:34.772356Z"
    },
    "papermill": {
     "duration": 0.038562,
     "end_time": "2023-04-12T22:01:34.775618",
     "exception": false,
     "start_time": "2023-04-12T22:01:34.737056",
     "status": "completed"
    },
    "tags": []
   },
   "outputs": [
    {
     "data": {
      "text/plain": [
       "(25932, 10)"
      ]
     },
     "execution_count": 29,
     "metadata": {},
     "output_type": "execute_result"
    }
   ],
   "source": [
    "X.shape   ## shape before removal"
   ]
  },
  {
   "cell_type": "code",
   "execution_count": 30,
   "id": "9f8b8d5e",
   "metadata": {
    "execution": {
     "iopub.execute_input": "2023-04-12T22:01:34.834317Z",
     "iopub.status.busy": "2023-04-12T22:01:34.833542Z",
     "iopub.status.idle": "2023-04-12T22:01:34.841989Z",
     "shell.execute_reply": "2023-04-12T22:01:34.841235Z"
    },
    "papermill": {
     "duration": 0.04031,
     "end_time": "2023-04-12T22:01:34.844190",
     "exception": false,
     "start_time": "2023-04-12T22:01:34.803880",
     "status": "completed"
    },
    "tags": []
   },
   "outputs": [],
   "source": [
    "X = X.loc[X['person_age']<80, :]"
   ]
  },
  {
   "cell_type": "code",
   "execution_count": 31,
   "id": "96b8b074",
   "metadata": {
    "execution": {
     "iopub.execute_input": "2023-04-12T22:01:34.902692Z",
     "iopub.status.busy": "2023-04-12T22:01:34.901928Z",
     "iopub.status.idle": "2023-04-12T22:01:34.908664Z",
     "shell.execute_reply": "2023-04-12T22:01:34.907775Z"
    },
    "papermill": {
     "duration": 0.038502,
     "end_time": "2023-04-12T22:01:34.910807",
     "exception": false,
     "start_time": "2023-04-12T22:01:34.872305",
     "status": "completed"
    },
    "tags": []
   },
   "outputs": [
    {
     "data": {
      "text/plain": [
       "(25924, 10)"
      ]
     },
     "execution_count": 31,
     "metadata": {},
     "output_type": "execute_result"
    }
   ],
   "source": [
    "X.shape  ## shape after removal"
   ]
  },
  {
   "cell_type": "markdown",
   "id": "c32a9489",
   "metadata": {
    "papermill": {
     "duration": 0.028057,
     "end_time": "2023-04-12T22:01:34.967540",
     "exception": false,
     "start_time": "2023-04-12T22:01:34.939483",
     "status": "completed"
    },
    "tags": []
   },
   "source": [
    "#### - We can also exclude rows whose work experience is >60 (Assuming average Upper bound of employement)."
   ]
  },
  {
   "cell_type": "code",
   "execution_count": 32,
   "id": "33488a56",
   "metadata": {
    "execution": {
     "iopub.execute_input": "2023-04-12T22:01:35.025907Z",
     "iopub.status.busy": "2023-04-12T22:01:35.025164Z",
     "iopub.status.idle": "2023-04-12T22:01:35.040425Z",
     "shell.execute_reply": "2023-04-12T22:01:35.039169Z"
    },
    "papermill": {
     "duration": 0.047271,
     "end_time": "2023-04-12T22:01:35.042917",
     "exception": false,
     "start_time": "2023-04-12T22:01:34.995646",
     "status": "completed"
    },
    "tags": []
   },
   "outputs": [
    {
     "data": {
      "text/html": [
       "<div>\n",
       "<style scoped>\n",
       "    .dataframe tbody tr th:only-of-type {\n",
       "        vertical-align: middle;\n",
       "    }\n",
       "\n",
       "    .dataframe tbody tr th {\n",
       "        vertical-align: top;\n",
       "    }\n",
       "\n",
       "    .dataframe thead th {\n",
       "        text-align: right;\n",
       "    }\n",
       "</style>\n",
       "<table border=\"1\" class=\"dataframe\">\n",
       "  <thead>\n",
       "    <tr style=\"text-align: right;\">\n",
       "      <th></th>\n",
       "      <th>person_age</th>\n",
       "      <th>person_income</th>\n",
       "      <th>person_home_ownership</th>\n",
       "      <th>person_emp_length</th>\n",
       "      <th>loan_intent</th>\n",
       "      <th>loan_grade</th>\n",
       "      <th>loan_amnt</th>\n",
       "      <th>loan_percent_income</th>\n",
       "      <th>cb_person_default_on_file</th>\n",
       "      <th>cb_person_cred_hist_length</th>\n",
       "    </tr>\n",
       "  </thead>\n",
       "  <tbody>\n",
       "    <tr>\n",
       "      <th>210</th>\n",
       "      <td>21</td>\n",
       "      <td>192000</td>\n",
       "      <td>MORTGAGE</td>\n",
       "      <td>123.0</td>\n",
       "      <td>VENTURE</td>\n",
       "      <td>A</td>\n",
       "      <td>20000</td>\n",
       "      <td>0.10</td>\n",
       "      <td>N</td>\n",
       "      <td>4</td>\n",
       "    </tr>\n",
       "    <tr>\n",
       "      <th>0</th>\n",
       "      <td>22</td>\n",
       "      <td>59000</td>\n",
       "      <td>RENT</td>\n",
       "      <td>123.0</td>\n",
       "      <td>PERSONAL</td>\n",
       "      <td>D</td>\n",
       "      <td>35000</td>\n",
       "      <td>0.59</td>\n",
       "      <td>Y</td>\n",
       "      <td>3</td>\n",
       "    </tr>\n",
       "  </tbody>\n",
       "</table>\n",
       "</div>"
      ],
      "text/plain": [
       "     person_age  person_income person_home_ownership  person_emp_length  \\\n",
       "210          21         192000              MORTGAGE              123.0   \n",
       "0            22          59000                  RENT              123.0   \n",
       "\n",
       "    loan_intent loan_grade  loan_amnt  loan_percent_income  \\\n",
       "210     VENTURE          A      20000                 0.10   \n",
       "0      PERSONAL          D      35000                 0.59   \n",
       "\n",
       "    cb_person_default_on_file  cb_person_cred_hist_length  \n",
       "210                         N                           4  \n",
       "0                           Y                           3  "
      ]
     },
     "execution_count": 32,
     "metadata": {},
     "output_type": "execute_result"
    }
   ],
   "source": [
    "X.loc[X['person_emp_length']>=60, :]"
   ]
  },
  {
   "cell_type": "code",
   "execution_count": 33,
   "id": "a4833c78",
   "metadata": {
    "execution": {
     "iopub.execute_input": "2023-04-12T22:01:35.101897Z",
     "iopub.status.busy": "2023-04-12T22:01:35.101482Z",
     "iopub.status.idle": "2023-04-12T22:01:35.109806Z",
     "shell.execute_reply": "2023-04-12T22:01:35.108765Z"
    },
    "papermill": {
     "duration": 0.040287,
     "end_time": "2023-04-12T22:01:35.111949",
     "exception": false,
     "start_time": "2023-04-12T22:01:35.071662",
     "status": "completed"
    },
    "tags": []
   },
   "outputs": [],
   "source": [
    "X = X.loc[X['person_emp_length']<60, :]"
   ]
  },
  {
   "cell_type": "code",
   "execution_count": 34,
   "id": "b87cc2bf",
   "metadata": {
    "execution": {
     "iopub.execute_input": "2023-04-12T22:01:35.170221Z",
     "iopub.status.busy": "2023-04-12T22:01:35.169597Z",
     "iopub.status.idle": "2023-04-12T22:01:35.175520Z",
     "shell.execute_reply": "2023-04-12T22:01:35.174792Z"
    },
    "papermill": {
     "duration": 0.037237,
     "end_time": "2023-04-12T22:01:35.177476",
     "exception": false,
     "start_time": "2023-04-12T22:01:35.140239",
     "status": "completed"
    },
    "tags": []
   },
   "outputs": [],
   "source": [
    "# Since we've removed some data from X, we need to pass on these updations to y as well,\n",
    "# as y doesn't know some of its corresponding X's have been deleted.\n",
    "y = y[X.index]"
   ]
  },
  {
   "cell_type": "markdown",
   "id": "80c12708",
   "metadata": {
    "papermill": {
     "duration": 0.028107,
     "end_time": "2023-04-12T22:01:35.233930",
     "exception": false,
     "start_time": "2023-04-12T22:01:35.205823",
     "status": "completed"
    },
    "tags": []
   },
   "source": [
    "#### - Checking the distribution of the Target variable:"
   ]
  },
  {
   "cell_type": "code",
   "execution_count": 35,
   "id": "506891f5",
   "metadata": {
    "execution": {
     "iopub.execute_input": "2023-04-12T22:01:35.291990Z",
     "iopub.status.busy": "2023-04-12T22:01:35.291578Z",
     "iopub.status.idle": "2023-04-12T22:01:35.299041Z",
     "shell.execute_reply": "2023-04-12T22:01:35.298311Z"
    },
    "papermill": {
     "duration": 0.038797,
     "end_time": "2023-04-12T22:01:35.300958",
     "exception": false,
     "start_time": "2023-04-12T22:01:35.262161",
     "status": "completed"
    },
    "tags": []
   },
   "outputs": [
    {
     "data": {
      "text/plain": [
       "0    19744\n",
       "1     5452\n",
       "Name: loan_status, dtype: int64"
      ]
     },
     "execution_count": 35,
     "metadata": {},
     "output_type": "execute_result"
    }
   ],
   "source": [
    "y.value_counts()"
   ]
  },
  {
   "cell_type": "markdown",
   "id": "3bb45846",
   "metadata": {
    "papermill": {
     "duration": 0.02889,
     "end_time": "2023-04-12T22:01:35.358074",
     "exception": false,
     "start_time": "2023-04-12T22:01:35.329184",
     "status": "completed"
    },
    "tags": []
   },
   "source": [
    "# 2. Creating the Best Pipeline:"
   ]
  },
  {
   "cell_type": "markdown",
   "id": "bc76edcc",
   "metadata": {
    "papermill": {
     "duration": 0.028629,
     "end_time": "2023-04-12T22:01:35.415422",
     "exception": false,
     "start_time": "2023-04-12T22:01:35.386793",
     "status": "completed"
    },
    "tags": []
   },
   "source": [
    "#### The Main Pipeline will be made of **two** parts:\n",
    "\n",
    "- Preprocessing for **NUMERICAL VARIABLES**:\n",
    "\n",
    "1. **Iterative imputer** - To handle missing values    \n",
    "2. **SMOTE** - To handle imbalance in the dataset\n",
    "3. **Scaling** - To maintain the scale among features\n",
    "\n",
    "- Preprocessing for **CATEGORICAL VARIABLES**:\n",
    "\n",
    "1. **One Hot Encoder** - To encode each categoric for model interpretability"
   ]
  },
  {
   "cell_type": "markdown",
   "id": "84df347e",
   "metadata": {
    "papermill": {
     "duration": 0.028649,
     "end_time": "2023-04-12T22:01:35.472709",
     "exception": false,
     "start_time": "2023-04-12T22:01:35.444060",
     "status": "completed"
    },
    "tags": []
   },
   "source": [
    "#### - The bottom code snippet is a small picture for something big to come. \n",
    "\n",
    "**NOTE:** It is always important for any Data Scientist to try out their methods and solutions on smaller data(readily available data), before they can actually dwelve into their own dataset. This will make it easier to debug code."
   ]
  },
  {
   "cell_type": "markdown",
   "id": "0b97d826",
   "metadata": {
    "papermill": {
     "duration": 0.028759,
     "end_time": "2023-04-12T22:01:35.533340",
     "exception": false,
     "start_time": "2023-04-12T22:01:35.504581",
     "status": "completed"
    },
    "tags": []
   },
   "source": [
    "#### - Sample Test Code:"
   ]
  },
  {
   "cell_type": "code",
   "execution_count": 36,
   "id": "e3e670bd",
   "metadata": {
    "_kg_hide-input": true,
    "execution": {
     "iopub.execute_input": "2023-04-12T22:01:35.592927Z",
     "iopub.status.busy": "2023-04-12T22:01:35.592160Z",
     "iopub.status.idle": "2023-04-12T22:01:35.597424Z",
     "shell.execute_reply": "2023-04-12T22:01:35.596702Z"
    },
    "papermill": {
     "duration": 0.037376,
     "end_time": "2023-04-12T22:01:35.599450",
     "exception": false,
     "start_time": "2023-04-12T22:01:35.562074",
     "status": "completed"
    },
    "tags": []
   },
   "outputs": [],
   "source": [
    "# ## Making artificial data with the help of sklearn's make_classification method:\n",
    "# X,y=make_classification(10000,20,n_classes=2,weights=[0.75])\n",
    "\n",
    "# ## Gives count of each target's class:\n",
    "# uni,cnt=np.unique(y,return_counts=True)\n",
    "# for i,(j,k) in enumerate(zip(uni,cnt)):\n",
    "#     print(j,\"--\",k)\n",
    "\n",
    "# X=pd.DataFrame(X)\n",
    "\n",
    "# ## Function to select random indexes:\n",
    "# def create_index(nrows):\n",
    "#     l=np.random.randint(0,nrows,50)\n",
    "#     return l\n",
    "\n",
    "# ## Making some rows as Null.\n",
    "# for i in range(X.shape[1]):\n",
    "#     X.iloc[create_index(X.shape[0]),i]=None\n",
    "    \n",
    "# ## To check the null values in every column:\n",
    "# X.isnull().sum()\n",
    "\n",
    "# ## Splitting:\n",
    "# X_train,X_test,y_train,y_test=train_test_split(X,y)\n",
    "\n",
    "# ## Making sample pipeline\n",
    "# over = SMOTE() ## Object for smote #sampling_strategy=0.1\n",
    "# model = DecisionTreeClassifier()\n",
    "# steps = [('impute', IterativeImputer()),('over', over),('model', model)]\n",
    "# pipeline = Pipeline(steps=steps)\n",
    "\n",
    "# pipeline.fit(X_train,y_train)\n",
    "\n",
    "# res=pipeline.predict(X_test)\n",
    "\n",
    "# print(f\"The accuracy of the Decision Tree Model is:{accuracy_score(y_test,res)}\")"
   ]
  },
  {
   "cell_type": "markdown",
   "id": "cc631c29",
   "metadata": {
    "papermill": {
     "duration": 0.028669,
     "end_time": "2023-04-12T22:01:35.657159",
     "exception": false,
     "start_time": "2023-04-12T22:01:35.628490",
     "status": "completed"
    },
    "tags": []
   },
   "source": [
    "#### - In this notebook, I am primarily testing the performance of **XGBoost** and **LightGBM** models, along with hyperparameter tuning. \n",
    "\n",
    "***Optional***:: You can try out other models as well. I have commented out some lines of code for the users to play with.\n",
    "\n",
    "#### - The following table presents you with the most important available hyperparameters of eXtreme Gradient Boosting Machines(XGBM):"
   ]
  },
  {
   "cell_type": "markdown",
   "id": "5f583fd5",
   "metadata": {
    "papermill": {
     "duration": 0.028074,
     "end_time": "2023-04-12T22:01:35.714227",
     "exception": false,
     "start_time": "2023-04-12T22:01:35.686153",
     "status": "completed"
    },
    "tags": []
   },
   "source": [
    "<div style=\"width:80%;text-align: center;\"> <img align=middle src=\"https://miro.medium.com/v2/resize:fit:640/format:webp/1*K7eB1EDtwpT3TSqFX2ZKkQ.png\" alt=\"Heat beating\" style=\"height:600px;margin-top:3rem;\"> </div>"
   ]
  },
  {
   "cell_type": "code",
   "execution_count": 37,
   "id": "117a95ed",
   "metadata": {
    "execution": {
     "iopub.execute_input": "2023-04-12T22:01:35.773557Z",
     "iopub.status.busy": "2023-04-12T22:01:35.772885Z",
     "iopub.status.idle": "2023-04-12T22:01:35.782856Z",
     "shell.execute_reply": "2023-04-12T22:01:35.782099Z"
    },
    "papermill": {
     "duration": 0.042154,
     "end_time": "2023-04-12T22:01:35.784896",
     "exception": false,
     "start_time": "2023-04-12T22:01:35.742742",
     "status": "completed"
    },
    "tags": []
   },
   "outputs": [],
   "source": [
    "## Original Pipeline:\n",
    "\n",
    "### 1. Creating a pipeline for numerical columns:\n",
    "num_pipe = Pipeline([\n",
    "    ('impute', IterativeImputer()),     #MICE (Multivariate Imputation by Chained Equations)\n",
    "    ('scale', StandardScaler()),\n",
    "])\n",
    "\n",
    "### 2. Using the Column Transformer class for binding the above numeric pipeline and the preprocessing steps of categorical columns:\n",
    "### Here, for keeping a list of numeric and categorical columns, I have used the make_column_selector method. You can read more about it here: https://scikit-learn.org/stable/modules/generated/sklearn.compose.make_column_selector.html\n",
    "\n",
    "ct = ColumnTransformer([\n",
    "    ('num_pipe', num_pipe, make_column_selector(dtype_include=np.number)),\n",
    "    ('cat_cols', OneHotEncoder(sparse=False, handle_unknown='ignore'), make_column_selector(dtype_include=object))\n",
    "], remainder='passthrough')\n",
    "\n",
    "\n",
    "## Setting up the models to be tested upon and the parameters for their pipelines'::\n",
    "\n",
    "grid = {\n",
    "    XGBClassifier():\n",
    "    {'model__n_estimators':[i*100 for i in range(10)],\n",
    "     'model__max_depth':[6,8,10,12,14,16],\n",
    "     'model__learning_rate':[0.01, 0.05, 0.1, 0.15, 0.2, 0.3],\n",
    "     'coltf__num_pipe__impute__estimator':[LinearRegression(), RandomForestRegressor(random_state=0), #coltf is the name of the final \n",
    "                                        KNeighborsRegressor()]},                                      #pipeline. The base estimator of \n",
    "                                                                                                #iterative imputer is also considered\n",
    "    LGBMClassifier(class_weight='balanced', random_state=0):                                          # as a parameter\n",
    "    {'model__n_estimators':[300,400,500],\n",
    "     'model__learning_rate':[0.001,0.01,0.1,1,10],\n",
    "     'model__boosting_type': ['gbdt', 'goss', 'dart'],\n",
    "     'coltf__num_pipe__impute__estimator':[LinearRegression(), RandomForestRegressor(random_state=0),\n",
    "                                        KNeighborsRegressor()]}    \n",
    "#     RandomForestClassifier(random_state=0, class_weight='balanced'):\n",
    "#     {'model__n_estimators':[300,400,500],\n",
    "#      'coltf__num_pipe__impute__estimator': [LinearRegression(), RandomForestRegressor(random_state=0), \n",
    "#                                         KNeighborsRegressor()]},                                       \n",
    "                                                                                                       \n",
    "#     KNeighborsClassifier(n_jobs=-1):\n",
    "#     {'model__n_neighbors':[4,5,6,7,8,9],\n",
    "#      'model__weights':['uniform', 'distance'],        \n",
    "#      'coltf__num_pipe__impute__estimator':[LinearRegression(), RandomForestRegressor(random_state=0),\n",
    "#                                         KNeighborsRegressor()]}   \n",
    "}"
   ]
  },
  {
   "cell_type": "markdown",
   "id": "9b733b70",
   "metadata": {
    "papermill": {
     "duration": 0.028174,
     "end_time": "2023-04-12T22:01:35.842701",
     "exception": false,
     "start_time": "2023-04-12T22:01:35.814527",
     "status": "completed"
    },
    "tags": []
   },
   "source": [
    "#### - Printing out the parameters:"
   ]
  },
  {
   "cell_type": "code",
   "execution_count": 38,
   "id": "88217e06",
   "metadata": {
    "execution": {
     "iopub.execute_input": "2023-04-12T22:01:35.901211Z",
     "iopub.status.busy": "2023-04-12T22:01:35.900810Z",
     "iopub.status.idle": "2023-04-12T22:01:35.911079Z",
     "shell.execute_reply": "2023-04-12T22:01:35.910120Z"
    },
    "papermill": {
     "duration": 0.042351,
     "end_time": "2023-04-12T22:01:35.913435",
     "exception": false,
     "start_time": "2023-04-12T22:01:35.871084",
     "status": "completed"
    },
    "tags": []
   },
   "outputs": [
    {
     "name": "stdout",
     "output_type": "stream",
     "text": [
      "1. XGBClassifier(base_score=None, booster=None, callbacks=None,\n",
      "              colsample_bylevel=None, colsample_bynode=None,\n",
      "              colsample_bytree=None, early_stopping_rounds=None,\n",
      "              enable_categorical=False, eval_metric=None, gamma=None,\n",
      "              gpu_id=None, grow_policy=None, importance_type=None,\n",
      "              interaction_constraints=None, learning_rate=None, max_bin=None,\n",
      "              max_cat_to_onehot=None, max_delta_step=None, max_depth=None,\n",
      "              max_leaves=None, min_child_weight=None, missing=nan,\n",
      "              monotone_constraints=None, n_estimators=100, n_jobs=None,\n",
      "              num_parallel_tree=None, predictor=None, random_state=None,\n",
      "              reg_alpha=None, reg_lambda=None, ...)\n",
      "\n",
      "List of Hyperparameters: {'model__n_estimators': [0, 100, 200, 300, 400, 500, 600, 700, 800, 900], 'model__max_depth': [6, 8, 10, 12, 14, 16], 'model__learning_rate': [0.01, 0.05, 0.1, 0.15, 0.2, 0.3], 'coltf__num_pipe__impute__estimator': [LinearRegression(), RandomForestRegressor(random_state=0), KNeighborsRegressor()]}\n",
      "--------------------------------------------------\n",
      "2. LGBMClassifier(class_weight='balanced', random_state=0)\n",
      "\n",
      "List of Hyperparameters: {'model__n_estimators': [300, 400, 500], 'model__learning_rate': [0.001, 0.01, 0.1, 1, 10], 'model__boosting_type': ['gbdt', 'goss', 'dart'], 'coltf__num_pipe__impute__estimator': [LinearRegression(), RandomForestRegressor(random_state=0), KNeighborsRegressor()]}\n",
      "--------------------------------------------------\n"
     ]
    }
   ],
   "source": [
    "for i,(clf, param) in enumerate(grid.items()):\n",
    "    print(f\"{i+1}. {clf}\")\n",
    "    print(f\"\\nList of Hyperparameters: {param}\")\n",
    "    print('-'*50)"
   ]
  },
  {
   "cell_type": "markdown",
   "id": "0613604c",
   "metadata": {
    "papermill": {
     "duration": 0.028233,
     "end_time": "2023-04-12T22:01:35.970590",
     "exception": false,
     "start_time": "2023-04-12T22:01:35.942357",
     "status": "completed"
    },
    "tags": []
   },
   "source": [
    "#### - Finding the optimal model and its best hyperparameters using Randomized Search and Cross-Validation(**RandomizedSearchCV**):"
   ]
  },
  {
   "cell_type": "code",
   "execution_count": 39,
   "id": "155fd815",
   "metadata": {
    "execution": {
     "iopub.execute_input": "2023-04-12T22:01:36.029233Z",
     "iopub.status.busy": "2023-04-12T22:01:36.028837Z",
     "iopub.status.idle": "2023-04-12T22:21:27.576548Z",
     "shell.execute_reply": "2023-04-12T22:21:27.575632Z"
    },
    "papermill": {
     "duration": 1191.579763,
     "end_time": "2023-04-12T22:21:27.578734",
     "exception": false,
     "start_time": "2023-04-12T22:01:35.998971",
     "status": "completed"
    },
    "tags": []
   },
   "outputs": [
    {
     "name": "stdout",
     "output_type": "stream",
     "text": [
      "Training XGBClassifier(base_score=None, booster=None, callbacks=None,\n",
      "              colsample_bylevel=None, colsample_bynode=None,\n",
      "              colsample_bytree=None, early_stopping_rounds=None,\n",
      "              enable_categorical=False, eval_metric=None, gamma=None,\n",
      "              gpu_id=None, grow_policy=None, importance_type=None,\n",
      "              interaction_constraints=None, learning_rate=None, max_bin=None,\n",
      "              max_cat_to_onehot=None, max_delta_step=None, max_depth=None,\n",
      "              max_leaves=None, min_child_weight=None, missing=nan,\n",
      "              monotone_constraints=None, n_estimators=100, n_jobs=None,\n",
      "              num_parallel_tree=None, predictor=None, random_state=None,\n",
      "              reg_alpha=None, reg_lambda=None, ...)!!\n",
      "\n",
      "Fitting!!\n",
      "\n",
      "Fitting 5 folds for each of 4 candidates, totalling 20 fits\n",
      "[CV 1/5] END coltf__num_pipe__impute__estimator=RandomForestRegressor(random_state=0), model__learning_rate=0.3, model__max_depth=10, model__n_estimators=400;, score=0.932 total time=  48.5s\n",
      "[CV 2/5] END coltf__num_pipe__impute__estimator=RandomForestRegressor(random_state=0), model__learning_rate=0.3, model__max_depth=10, model__n_estimators=400;, score=0.926 total time=  48.4s\n",
      "[CV 3/5] END coltf__num_pipe__impute__estimator=RandomForestRegressor(random_state=0), model__learning_rate=0.3, model__max_depth=10, model__n_estimators=400;, score=0.937 total time=  47.7s\n",
      "[CV 4/5] END coltf__num_pipe__impute__estimator=RandomForestRegressor(random_state=0), model__learning_rate=0.3, model__max_depth=10, model__n_estimators=400;, score=0.936 total time=  48.6s\n",
      "[CV 5/5] END coltf__num_pipe__impute__estimator=RandomForestRegressor(random_state=0), model__learning_rate=0.3, model__max_depth=10, model__n_estimators=400;, score=0.933 total time=  47.5s\n",
      "[CV 1/5] END coltf__num_pipe__impute__estimator=RandomForestRegressor(random_state=0), model__learning_rate=0.15, model__max_depth=8, model__n_estimators=900;, score=0.932 total time= 1.1min\n",
      "[CV 2/5] END coltf__num_pipe__impute__estimator=RandomForestRegressor(random_state=0), model__learning_rate=0.15, model__max_depth=8, model__n_estimators=900;, score=0.927 total time= 1.1min\n",
      "[CV 3/5] END coltf__num_pipe__impute__estimator=RandomForestRegressor(random_state=0), model__learning_rate=0.15, model__max_depth=8, model__n_estimators=900;, score=0.937 total time= 1.1min\n",
      "[CV 4/5] END coltf__num_pipe__impute__estimator=RandomForestRegressor(random_state=0), model__learning_rate=0.15, model__max_depth=8, model__n_estimators=900;, score=0.936 total time= 1.1min\n",
      "[CV 5/5] END coltf__num_pipe__impute__estimator=RandomForestRegressor(random_state=0), model__learning_rate=0.15, model__max_depth=8, model__n_estimators=900;, score=0.936 total time= 1.1min\n",
      "[CV 1/5] END coltf__num_pipe__impute__estimator=KNeighborsRegressor(), model__learning_rate=0.05, model__max_depth=16, model__n_estimators=500;, score=0.933 total time=  40.1s\n",
      "[CV 2/5] END coltf__num_pipe__impute__estimator=KNeighborsRegressor(), model__learning_rate=0.05, model__max_depth=16, model__n_estimators=500;, score=0.931 total time=  38.7s\n",
      "[CV 3/5] END coltf__num_pipe__impute__estimator=KNeighborsRegressor(), model__learning_rate=0.05, model__max_depth=16, model__n_estimators=500;, score=0.939 total time=  38.9s\n",
      "[CV 4/5] END coltf__num_pipe__impute__estimator=KNeighborsRegressor(), model__learning_rate=0.05, model__max_depth=16, model__n_estimators=500;, score=0.933 total time=  38.7s\n",
      "[CV 5/5] END coltf__num_pipe__impute__estimator=KNeighborsRegressor(), model__learning_rate=0.05, model__max_depth=16, model__n_estimators=500;, score=0.936 total time=  39.8s\n",
      "[CV 1/5] END coltf__num_pipe__impute__estimator=KNeighborsRegressor(), model__learning_rate=0.01, model__max_depth=14, model__n_estimators=300;, score=0.930 total time=  22.3s\n",
      "[CV 2/5] END coltf__num_pipe__impute__estimator=KNeighborsRegressor(), model__learning_rate=0.01, model__max_depth=14, model__n_estimators=300;, score=0.927 total time=  23.2s\n",
      "[CV 3/5] END coltf__num_pipe__impute__estimator=KNeighborsRegressor(), model__learning_rate=0.01, model__max_depth=14, model__n_estimators=300;, score=0.935 total time=  23.2s\n",
      "[CV 4/5] END coltf__num_pipe__impute__estimator=KNeighborsRegressor(), model__learning_rate=0.01, model__max_depth=14, model__n_estimators=300;, score=0.930 total time=  22.1s\n",
      "[CV 5/5] END coltf__num_pipe__impute__estimator=KNeighborsRegressor(), model__learning_rate=0.01, model__max_depth=14, model__n_estimators=300;, score=0.930 total time=  23.1s\n",
      "Gathering Results!!\n",
      "\n",
      "Training LGBMClassifier(class_weight='balanced', random_state=0)!!\n",
      "\n",
      "Fitting!!\n",
      "\n",
      "Fitting 5 folds for each of 4 candidates, totalling 20 fits\n",
      "[CV 1/5] END coltf__num_pipe__impute__estimator=KNeighborsRegressor(), model__boosting_type=dart, model__learning_rate=0.001, model__n_estimators=300;, score=0.917 total time=   7.7s\n",
      "[CV 2/5] END coltf__num_pipe__impute__estimator=KNeighborsRegressor(), model__boosting_type=dart, model__learning_rate=0.001, model__n_estimators=300;, score=0.919 total time=   7.3s\n",
      "[CV 3/5] END coltf__num_pipe__impute__estimator=KNeighborsRegressor(), model__boosting_type=dart, model__learning_rate=0.001, model__n_estimators=300;, score=0.917 total time=   7.6s\n",
      "[CV 4/5] END coltf__num_pipe__impute__estimator=KNeighborsRegressor(), model__boosting_type=dart, model__learning_rate=0.001, model__n_estimators=300;, score=0.921 total time=   8.1s\n",
      "[CV 5/5] END coltf__num_pipe__impute__estimator=KNeighborsRegressor(), model__boosting_type=dart, model__learning_rate=0.001, model__n_estimators=300;, score=0.919 total time=   7.3s\n",
      "[CV 1/5] END coltf__num_pipe__impute__estimator=LinearRegression(), model__boosting_type=dart, model__learning_rate=0.01, model__n_estimators=300;, score=0.917 total time=   7.2s\n",
      "[CV 2/5] END coltf__num_pipe__impute__estimator=LinearRegression(), model__boosting_type=dart, model__learning_rate=0.01, model__n_estimators=300;, score=0.919 total time=   7.0s\n",
      "[CV 3/5] END coltf__num_pipe__impute__estimator=LinearRegression(), model__boosting_type=dart, model__learning_rate=0.01, model__n_estimators=300;, score=0.920 total time=   8.3s\n",
      "[CV 4/5] END coltf__num_pipe__impute__estimator=LinearRegression(), model__boosting_type=dart, model__learning_rate=0.01, model__n_estimators=300;, score=0.923 total time=   7.3s\n",
      "[CV 5/5] END coltf__num_pipe__impute__estimator=LinearRegression(), model__boosting_type=dart, model__learning_rate=0.01, model__n_estimators=300;, score=0.919 total time=   7.1s\n",
      "[CV 1/5] END coltf__num_pipe__impute__estimator=RandomForestRegressor(random_state=0), model__boosting_type=gbdt, model__learning_rate=0.001, model__n_estimators=300;, score=0.917 total time=  30.8s\n",
      "[CV 2/5] END coltf__num_pipe__impute__estimator=RandomForestRegressor(random_state=0), model__boosting_type=gbdt, model__learning_rate=0.001, model__n_estimators=300;, score=0.919 total time=  30.4s\n",
      "[CV 3/5] END coltf__num_pipe__impute__estimator=RandomForestRegressor(random_state=0), model__boosting_type=gbdt, model__learning_rate=0.001, model__n_estimators=300;, score=0.919 total time=  30.7s\n",
      "[CV 4/5] END coltf__num_pipe__impute__estimator=RandomForestRegressor(random_state=0), model__boosting_type=gbdt, model__learning_rate=0.001, model__n_estimators=300;, score=0.921 total time=  30.9s\n",
      "[CV 5/5] END coltf__num_pipe__impute__estimator=RandomForestRegressor(random_state=0), model__boosting_type=gbdt, model__learning_rate=0.001, model__n_estimators=300;, score=0.918 total time=  30.8s\n",
      "[CV 1/5] END coltf__num_pipe__impute__estimator=KNeighborsRegressor(), model__boosting_type=dart, model__learning_rate=0.1, model__n_estimators=300;, score=0.938 total time=   7.3s\n",
      "[CV 2/5] END coltf__num_pipe__impute__estimator=KNeighborsRegressor(), model__boosting_type=dart, model__learning_rate=0.1, model__n_estimators=300;, score=0.935 total time=   7.1s\n",
      "[CV 3/5] END coltf__num_pipe__impute__estimator=KNeighborsRegressor(), model__boosting_type=dart, model__learning_rate=0.1, model__n_estimators=300;, score=0.940 total time=   8.3s\n",
      "[CV 4/5] END coltf__num_pipe__impute__estimator=KNeighborsRegressor(), model__boosting_type=dart, model__learning_rate=0.1, model__n_estimators=300;, score=0.939 total time=   7.2s\n",
      "[CV 5/5] END coltf__num_pipe__impute__estimator=KNeighborsRegressor(), model__boosting_type=dart, model__learning_rate=0.1, model__n_estimators=300;, score=0.937 total time=   7.2s\n",
      "Gathering Results!!\n",
      "\n",
      "CPU times: user 55min 45s, sys: 25.1 s, total: 56min 10s\n",
      "Wall time: 19min 51s\n"
     ]
    }
   ],
   "source": [
    "%%time\n",
    "full_df = pd.DataFrame()\n",
    "best_algos = {}\n",
    "\n",
    "## Changing the ordering of the columns for ease of understanding:\n",
    "X=X[X.select_dtypes(include=[np.number]).columns.append(X.select_dtypes(\"O\").columns)]\n",
    "\n",
    "for model, param in grid.items():\n",
    "    ## The smote object:\n",
    "    smt = SMOTE(random_state=42)\n",
    "    \n",
    "    pipe = Pipeline([\n",
    "    ('coltf', ct),     #ct for the column transformer for preprocessing\n",
    "    ('smote', smt),\n",
    "    ('model', model)\n",
    "])\n",
    "    print(f\"Training {model}!!\\n\")\n",
    "    ## Conducting a Randomized Search to find the best optimal hyperparamaters:\n",
    "    gs = RandomizedSearchCV(estimator=pipe, param_distributions=param, scoring='accuracy',verbose=3, n_iter=4, random_state=0)\n",
    "    \n",
    "    print(\"Fitting!!\\n\")\n",
    "    gs.fit(X, y)\n",
    "    \n",
    "    print(\"Gathering Results!!\\n\")\n",
    "    all_res = pd.DataFrame(gs.cv_results_)\n",
    "\n",
    "    temp = all_res.loc[:, ['params', 'mean_test_score']]\n",
    "    algo_name = str(model).split('(')[0]\n",
    "    temp['algo'] = algo_name\n",
    "    \n",
    "    full_df = pd.concat([full_df, temp], ignore_index=True)\n",
    "    best_algos[algo_name] = gs.best_estimator_"
   ]
  },
  {
   "cell_type": "markdown",
   "id": "c6ee3cf5",
   "metadata": {
    "papermill": {
     "duration": 0.032236,
     "end_time": "2023-04-12T22:21:27.642574",
     "exception": false,
     "start_time": "2023-04-12T22:21:27.610338",
     "status": "completed"
    },
    "tags": []
   },
   "source": [
    "#### - Displaying the list of pipelines tried and choosing the best performed model:"
   ]
  },
  {
   "cell_type": "code",
   "execution_count": 40,
   "id": "85c4424b",
   "metadata": {
    "execution": {
     "iopub.execute_input": "2023-04-12T22:21:27.707751Z",
     "iopub.status.busy": "2023-04-12T22:21:27.706976Z",
     "iopub.status.idle": "2023-04-12T22:21:27.725011Z",
     "shell.execute_reply": "2023-04-12T22:21:27.724155Z"
    },
    "papermill": {
     "duration": 0.052899,
     "end_time": "2023-04-12T22:21:27.727063",
     "exception": false,
     "start_time": "2023-04-12T22:21:27.674164",
     "status": "completed"
    },
    "tags": []
   },
   "outputs": [
    {
     "data": {
      "text/html": [
       "<div>\n",
       "<style scoped>\n",
       "    .dataframe tbody tr th:only-of-type {\n",
       "        vertical-align: middle;\n",
       "    }\n",
       "\n",
       "    .dataframe tbody tr th {\n",
       "        vertical-align: top;\n",
       "    }\n",
       "\n",
       "    .dataframe thead th {\n",
       "        text-align: right;\n",
       "    }\n",
       "</style>\n",
       "<table border=\"1\" class=\"dataframe\">\n",
       "  <thead>\n",
       "    <tr style=\"text-align: right;\">\n",
       "      <th></th>\n",
       "      <th>params</th>\n",
       "      <th>mean_test_score</th>\n",
       "      <th>algo</th>\n",
       "    </tr>\n",
       "  </thead>\n",
       "  <tbody>\n",
       "    <tr>\n",
       "      <th>7</th>\n",
       "      <td>{'model__n_estimators': 300, 'model__learning_rate': 0.1, 'model__boosting_type': 'dart', 'coltf__num_pipe__impute__estimator': KNeighborsRegresso...</td>\n",
       "      <td>0.937927</td>\n",
       "      <td>LGBMClassifier</td>\n",
       "    </tr>\n",
       "    <tr>\n",
       "      <th>2</th>\n",
       "      <td>{'model__n_estimators': 500, 'model__max_depth': 16, 'model__learning_rate': 0.05, 'coltf__num_pipe__impute__estimator': KNeighborsRegressor()}</td>\n",
       "      <td>0.934315</td>\n",
       "      <td>XGBClassifier</td>\n",
       "    </tr>\n",
       "    <tr>\n",
       "      <th>1</th>\n",
       "      <td>{'model__n_estimators': 900, 'model__max_depth': 8, 'model__learning_rate': 0.15, 'coltf__num_pipe__impute__estimator': RandomForestRegressor(rand...</td>\n",
       "      <td>0.933720</td>\n",
       "      <td>XGBClassifier</td>\n",
       "    </tr>\n",
       "    <tr>\n",
       "      <th>0</th>\n",
       "      <td>{'model__n_estimators': 400, 'model__max_depth': 10, 'model__learning_rate': 0.3, 'coltf__num_pipe__impute__estimator': RandomForestRegressor(rand...</td>\n",
       "      <td>0.932767</td>\n",
       "      <td>XGBClassifier</td>\n",
       "    </tr>\n",
       "    <tr>\n",
       "      <th>3</th>\n",
       "      <td>{'model__n_estimators': 300, 'model__max_depth': 14, 'model__learning_rate': 0.01, 'coltf__num_pipe__impute__estimator': KNeighborsRegressor()}</td>\n",
       "      <td>0.930227</td>\n",
       "      <td>XGBClassifier</td>\n",
       "    </tr>\n",
       "    <tr>\n",
       "      <th>5</th>\n",
       "      <td>{'model__n_estimators': 300, 'model__learning_rate': 0.01, 'model__boosting_type': 'dart', 'coltf__num_pipe__impute__estimator': LinearRegression()}</td>\n",
       "      <td>0.919630</td>\n",
       "      <td>LGBMClassifier</td>\n",
       "    </tr>\n",
       "    <tr>\n",
       "      <th>6</th>\n",
       "      <td>{'model__n_estimators': 300, 'model__learning_rate': 0.001, 'model__boosting_type': 'gbdt', 'coltf__num_pipe__impute__estimator': RandomForestRegr...</td>\n",
       "      <td>0.918797</td>\n",
       "      <td>LGBMClassifier</td>\n",
       "    </tr>\n",
       "    <tr>\n",
       "      <th>4</th>\n",
       "      <td>{'model__n_estimators': 300, 'model__learning_rate': 0.001, 'model__boosting_type': 'dart', 'coltf__num_pipe__impute__estimator': KNeighborsRegres...</td>\n",
       "      <td>0.918400</td>\n",
       "      <td>LGBMClassifier</td>\n",
       "    </tr>\n",
       "  </tbody>\n",
       "</table>\n",
       "</div>"
      ],
      "text/plain": [
       "                                                                                                                                                  params  \\\n",
       "7  {'model__n_estimators': 300, 'model__learning_rate': 0.1, 'model__boosting_type': 'dart', 'coltf__num_pipe__impute__estimator': KNeighborsRegresso...   \n",
       "2        {'model__n_estimators': 500, 'model__max_depth': 16, 'model__learning_rate': 0.05, 'coltf__num_pipe__impute__estimator': KNeighborsRegressor()}   \n",
       "1  {'model__n_estimators': 900, 'model__max_depth': 8, 'model__learning_rate': 0.15, 'coltf__num_pipe__impute__estimator': RandomForestRegressor(rand...   \n",
       "0  {'model__n_estimators': 400, 'model__max_depth': 10, 'model__learning_rate': 0.3, 'coltf__num_pipe__impute__estimator': RandomForestRegressor(rand...   \n",
       "3        {'model__n_estimators': 300, 'model__max_depth': 14, 'model__learning_rate': 0.01, 'coltf__num_pipe__impute__estimator': KNeighborsRegressor()}   \n",
       "5   {'model__n_estimators': 300, 'model__learning_rate': 0.01, 'model__boosting_type': 'dart', 'coltf__num_pipe__impute__estimator': LinearRegression()}   \n",
       "6  {'model__n_estimators': 300, 'model__learning_rate': 0.001, 'model__boosting_type': 'gbdt', 'coltf__num_pipe__impute__estimator': RandomForestRegr...   \n",
       "4  {'model__n_estimators': 300, 'model__learning_rate': 0.001, 'model__boosting_type': 'dart', 'coltf__num_pipe__impute__estimator': KNeighborsRegres...   \n",
       "\n",
       "   mean_test_score            algo  \n",
       "7         0.937927  LGBMClassifier  \n",
       "2         0.934315   XGBClassifier  \n",
       "1         0.933720   XGBClassifier  \n",
       "0         0.932767   XGBClassifier  \n",
       "3         0.930227   XGBClassifier  \n",
       "5         0.919630  LGBMClassifier  \n",
       "6         0.918797  LGBMClassifier  \n",
       "4         0.918400  LGBMClassifier  "
      ]
     },
     "execution_count": 40,
     "metadata": {},
     "output_type": "execute_result"
    }
   ],
   "source": [
    "full_df.sort_values('mean_test_score', ascending=False)"
   ]
  },
  {
   "cell_type": "code",
   "execution_count": 41,
   "id": "dc91c2cd",
   "metadata": {
    "execution": {
     "iopub.execute_input": "2023-04-12T22:21:27.793101Z",
     "iopub.status.busy": "2023-04-12T22:21:27.792205Z",
     "iopub.status.idle": "2023-04-12T22:21:27.800403Z",
     "shell.execute_reply": "2023-04-12T22:21:27.799359Z"
    },
    "papermill": {
     "duration": 0.043838,
     "end_time": "2023-04-12T22:21:27.802796",
     "exception": false,
     "start_time": "2023-04-12T22:21:27.758958",
     "status": "completed"
    },
    "tags": []
   },
   "outputs": [
    {
     "data": {
      "text/plain": [
       "{'model__n_estimators': 300,\n",
       " 'model__learning_rate': 0.1,\n",
       " 'model__boosting_type': 'dart',\n",
       " 'coltf__num_pipe__impute__estimator': KNeighborsRegressor()}"
      ]
     },
     "execution_count": 41,
     "metadata": {},
     "output_type": "execute_result"
    }
   ],
   "source": [
    "full_df.sort_values('mean_test_score', ascending=False).iloc[0, 0]"
   ]
  },
  {
   "cell_type": "code",
   "execution_count": 42,
   "id": "be8df7a5",
   "metadata": {
    "execution": {
     "iopub.execute_input": "2023-04-12T22:21:27.868997Z",
     "iopub.status.busy": "2023-04-12T22:21:27.868250Z",
     "iopub.status.idle": "2023-04-12T22:21:27.950734Z",
     "shell.execute_reply": "2023-04-12T22:21:27.949689Z"
    },
    "papermill": {
     "duration": 0.11823,
     "end_time": "2023-04-12T22:21:27.953057",
     "exception": false,
     "start_time": "2023-04-12T22:21:27.834827",
     "status": "completed"
    },
    "tags": []
   },
   "outputs": [
    {
     "data": {
      "text/plain": [
       "(Pipeline(steps=[('coltf',\n",
       "                  ColumnTransformer(remainder='passthrough',\n",
       "                                    transformers=[('num_pipe',\n",
       "                                                   Pipeline(steps=[('impute',\n",
       "                                                                    IterativeImputer(estimator=KNeighborsRegressor())),\n",
       "                                                                   ('scale',\n",
       "                                                                    StandardScaler())]),\n",
       "                                                   <sklearn.compose._column_transformer.make_column_selector object at 0x75fed7dad590>),\n",
       "                                                  ('cat_cols',\n",
       "                                                   OneHotEncoder(handle_unknown='ignore',\n",
       "                                                                 sparse=False),\n",
       "                                                   <skle...\n",
       "                                gamma=0, gpu_id=-1, grow_policy='depthwise',\n",
       "                                importance_type=None, interaction_constraints='',\n",
       "                                learning_rate=0.05, max_bin=256,\n",
       "                                max_cat_to_onehot=4, max_delta_step=0,\n",
       "                                max_depth=16, max_leaves=0, min_child_weight=1,\n",
       "                                missing=nan, monotone_constraints='()',\n",
       "                                n_estimators=500, n_jobs=0, num_parallel_tree=1,\n",
       "                                predictor='auto', random_state=0, reg_alpha=0,\n",
       "                                reg_lambda=1, ...))]),\n",
       " Pipeline(steps=[('coltf',\n",
       "                  ColumnTransformer(remainder='passthrough',\n",
       "                                    transformers=[('num_pipe',\n",
       "                                                   Pipeline(steps=[('impute',\n",
       "                                                                    IterativeImputer(estimator=KNeighborsRegressor())),\n",
       "                                                                   ('scale',\n",
       "                                                                    StandardScaler())]),\n",
       "                                                   <sklearn.compose._column_transformer.make_column_selector object at 0x75fed7dc8c50>),\n",
       "                                                  ('cat_cols',\n",
       "                                                   OneHotEncoder(handle_unknown='ignore',\n",
       "                                                                 sparse=False),\n",
       "                                                   <sklearn.compose._column_transformer.make_column_selector object at 0x75fed7dc8dd0>)])),\n",
       "                 ('smote', SMOTE(random_state=42)),\n",
       "                 ('model',\n",
       "                  LGBMClassifier(boosting_type='dart', class_weight='balanced',\n",
       "                                 n_estimators=300, random_state=0))]))"
      ]
     },
     "execution_count": 42,
     "metadata": {},
     "output_type": "execute_result"
    }
   ],
   "source": [
    "## Getting the pipeline of the best XGB Algorithm and LGB Algorithm:\n",
    "be_xgb = best_algos['XGBClassifier']\n",
    "be_lgb = best_algos['LGBMClassifier']\n",
    "be_xgb,be_lgb"
   ]
  },
  {
   "cell_type": "markdown",
   "id": "f0973738",
   "metadata": {
    "papermill": {
     "duration": 0.031915,
     "end_time": "2023-04-12T22:21:28.017198",
     "exception": false,
     "start_time": "2023-04-12T22:21:27.985283",
     "status": "completed"
    },
    "tags": []
   },
   "source": [
    "### - Training the best pipelines:\n",
    "\n",
    "**Repeated k-Fold Cross-Validation** provides a way to improve the estimated performance of a machine learning model. This involves simply repeating the cross-validation procedure multiple times and reporting the mean result across all folds from all runs. This mean result is expected to be a more accurate estimate of the true unknown underlying mean performance of the model on the dataset, as calculated using the standard error.\n",
    "\n",
    "We will use this technique here to test model performance once again before evaluating it."
   ]
  },
  {
   "cell_type": "markdown",
   "id": "acaab14f",
   "metadata": {
    "papermill": {
     "duration": 0.031957,
     "end_time": "2023-04-12T22:21:28.081358",
     "exception": false,
     "start_time": "2023-04-12T22:21:28.049401",
     "status": "completed"
    },
    "tags": []
   },
   "source": [
    "**- Training the XGB Model:**"
   ]
  },
  {
   "cell_type": "code",
   "execution_count": 43,
   "id": "19237908",
   "metadata": {
    "execution": {
     "iopub.execute_input": "2023-04-12T22:21:28.148103Z",
     "iopub.status.busy": "2023-04-12T22:21:28.147718Z",
     "iopub.status.idle": "2023-04-12T22:30:00.752671Z",
     "shell.execute_reply": "2023-04-12T22:30:00.751277Z"
    },
    "papermill": {
     "duration": 512.674188,
     "end_time": "2023-04-12T22:30:00.787823",
     "exception": false,
     "start_time": "2023-04-12T22:21:28.113635",
     "status": "completed"
    },
    "tags": []
   },
   "outputs": [
    {
     "name": "stdout",
     "output_type": "stream",
     "text": [
      "The MEAN of score obtained after CROSS VALIDATION of the XGB Based Pipeline is: 0.9347912761938362 or 93.48%\n",
      "CPU times: user 427 ms, sys: 157 ms, total: 583 ms\n",
      "Wall time: 8min 32s\n"
     ]
    }
   ],
   "source": [
    "%%time\n",
    "## A dry run of the best pipeline:\n",
    "pipe_xgb = be_xgb\n",
    "# evaluate pipeline using k-fold cross validation:\n",
    "cv = RepeatedStratifiedKFold(n_splits=5, n_repeats=3, random_state=1)\n",
    "scores = cross_val_score(pipe_xgb, X, y, scoring='accuracy', cv=cv, n_jobs=-1)\n",
    "print(f\"The MEAN of score obtained after CROSS VALIDATION of the XGB Based Pipeline is: {scores.mean()} or {scores.mean()*100:.2f}%\")"
   ]
  },
  {
   "cell_type": "code",
   "execution_count": 44,
   "id": "dc1b83b6",
   "metadata": {
    "execution": {
     "iopub.execute_input": "2023-04-12T22:30:00.918331Z",
     "iopub.status.busy": "2023-04-12T22:30:00.917949Z",
     "iopub.status.idle": "2023-04-12T22:30:49.850577Z",
     "shell.execute_reply": "2023-04-12T22:30:49.849545Z"
    },
    "papermill": {
     "duration": 49.063511,
     "end_time": "2023-04-12T22:30:49.883429",
     "exception": false,
     "start_time": "2023-04-12T22:30:00.819918",
     "status": "completed"
    },
    "tags": []
   },
   "outputs": [
    {
     "name": "stdout",
     "output_type": "stream",
     "text": [
      "The ACCURACY SCORE produced on the TEST SET by the XGB Based Pipeline is: 0.9313695249845774 or 93.13695249845773%.\n",
      "CPU times: user 3min 8s, sys: 1.22 s, total: 3min 9s\n",
      "Wall time: 48.9 s\n"
     ]
    }
   ],
   "source": [
    "%%time\n",
    "## Fitting into best pipeline for evaluation:\n",
    "pipe_xgb.fit(X, y)\n",
    "## Getting predictions:\n",
    "preds_xgb = pipe_xgb.predict(X_test)\n",
    "## Getting probabilities:\n",
    "probs_xgb = pipe_xgb.predict_proba(X_test)\n",
    "## Accuracy Score:\n",
    "print(f\"The ACCURACY SCORE produced on the TEST SET by the XGB Based Pipeline is: {accuracy_score(y_test,preds_xgb)} or {accuracy_score(y_test,preds_xgb)*100}%.\")"
   ]
  },
  {
   "cell_type": "markdown",
   "id": "6d602a0b",
   "metadata": {
    "papermill": {
     "duration": 0.031562,
     "end_time": "2023-04-12T22:30:49.946543",
     "exception": false,
     "start_time": "2023-04-12T22:30:49.914981",
     "status": "completed"
    },
    "tags": []
   },
   "source": [
    "**- Training the LGBM Model:**"
   ]
  },
  {
   "cell_type": "code",
   "execution_count": 45,
   "id": "9bf6ab56",
   "metadata": {
    "execution": {
     "iopub.execute_input": "2023-04-12T22:30:50.012048Z",
     "iopub.status.busy": "2023-04-12T22:30:50.011453Z",
     "iopub.status.idle": "2023-04-12T22:32:21.890911Z",
     "shell.execute_reply": "2023-04-12T22:32:21.889643Z"
    },
    "papermill": {
     "duration": 91.943753,
     "end_time": "2023-04-12T22:32:21.922040",
     "exception": false,
     "start_time": "2023-04-12T22:30:49.978287",
     "status": "completed"
    },
    "tags": []
   },
   "outputs": [
    {
     "name": "stdout",
     "output_type": "stream",
     "text": [
      "The MEAN of score obtained after CROSS VALIDATION of the LGBM Based Pipeline is: 0.9379399283472513 or 93.79%\n",
      "CPU times: user 296 ms, sys: 17 ms, total: 313 ms\n",
      "Wall time: 1min 31s\n"
     ]
    }
   ],
   "source": [
    "%%time\n",
    "## A dry run of the best pipeline:\n",
    "pipe_lgb = be_lgb\n",
    "# evaluate pipeline using k-fold cross validation:\n",
    "cv = RepeatedStratifiedKFold(n_splits=5, n_repeats=3, random_state=1)\n",
    "scores = cross_val_score(pipe_lgb, X, y, scoring='accuracy', cv=cv, n_jobs=-1)\n",
    "print(f\"The MEAN of score obtained after CROSS VALIDATION of the LGBM Based Pipeline is: {scores.mean()} or {scores.mean()*100:.2f}%\")"
   ]
  },
  {
   "cell_type": "code",
   "execution_count": 46,
   "id": "72b0d452",
   "metadata": {
    "execution": {
     "iopub.execute_input": "2023-04-12T22:32:21.987551Z",
     "iopub.status.busy": "2023-04-12T22:32:21.987132Z",
     "iopub.status.idle": "2023-04-12T22:32:30.987117Z",
     "shell.execute_reply": "2023-04-12T22:32:30.985964Z"
    },
    "papermill": {
     "duration": 9.035453,
     "end_time": "2023-04-12T22:32:30.989552",
     "exception": false,
     "start_time": "2023-04-12T22:32:21.954099",
     "status": "completed"
    },
    "tags": []
   },
   "outputs": [
    {
     "name": "stdout",
     "output_type": "stream",
     "text": [
      "The ACCURACY SCORE produced on the TEST SET by the LGBM Based Pipeline is: 0.932140653917335 or 93.2140653917335%.\n",
      "CPU times: user 33 s, sys: 431 ms, total: 33.4 s\n",
      "Wall time: 8.99 s\n"
     ]
    }
   ],
   "source": [
    "%%time\n",
    "## Fitting into best pipeline for evaluation:\n",
    "pipe_lgb.fit(X, y)\n",
    "## Getting predictions:\n",
    "preds_lgb = pipe_lgb.predict(X_test)\n",
    "## Getting probabilities:\n",
    "probs_lgb = pipe_lgb.predict_proba(X_test)\n",
    "## Accuracy Score:\n",
    "print(f\"The ACCURACY SCORE produced on the TEST SET by the LGBM Based Pipeline is: {accuracy_score(y_test,preds_lgb)} or {accuracy_score(y_test,preds_lgb)*100}%.\")"
   ]
  },
  {
   "cell_type": "markdown",
   "id": "62f4e45b",
   "metadata": {
    "papermill": {
     "duration": 0.031769,
     "end_time": "2023-04-12T22:32:31.053940",
     "exception": false,
     "start_time": "2023-04-12T22:32:31.022171",
     "status": "completed"
    },
    "tags": []
   },
   "source": [
    "#### - Viewing the predicted probabilities obtained for the test data:"
   ]
  },
  {
   "cell_type": "code",
   "execution_count": 47,
   "id": "fd8d92f3",
   "metadata": {
    "execution": {
     "iopub.execute_input": "2023-04-12T22:32:31.120661Z",
     "iopub.status.busy": "2023-04-12T22:32:31.119475Z",
     "iopub.status.idle": "2023-04-12T22:32:31.127654Z",
     "shell.execute_reply": "2023-04-12T22:32:31.126810Z"
    },
    "papermill": {
     "duration": 0.043801,
     "end_time": "2023-04-12T22:32:31.129791",
     "exception": false,
     "start_time": "2023-04-12T22:32:31.085990",
     "status": "completed"
    },
    "tags": []
   },
   "outputs": [
    {
     "data": {
      "text/plain": [
       "array([[9.9950802e-01, 4.9194810e-04],\n",
       "       [7.0869923e-04, 9.9929130e-01],\n",
       "       [9.9034464e-01, 9.6553359e-03],\n",
       "       [9.9859619e-01, 1.4037885e-03],\n",
       "       [9.9760062e-01, 2.3993819e-03],\n",
       "       [9.7440332e-01, 2.5596675e-02],\n",
       "       [9.6728712e-01, 3.2712862e-02],\n",
       "       [9.9742496e-01, 2.5750641e-03],\n",
       "       [9.9795240e-01, 2.0475900e-03],\n",
       "       [8.4377223e-01, 1.5622778e-01]], dtype=float32)"
      ]
     },
     "execution_count": 47,
     "metadata": {},
     "output_type": "execute_result"
    }
   ],
   "source": [
    "probs_xgb[:10]"
   ]
  },
  {
   "cell_type": "code",
   "execution_count": 48,
   "id": "2d3964f7",
   "metadata": {
    "execution": {
     "iopub.execute_input": "2023-04-12T22:32:31.197534Z",
     "iopub.status.busy": "2023-04-12T22:32:31.196353Z",
     "iopub.status.idle": "2023-04-12T22:32:31.204372Z",
     "shell.execute_reply": "2023-04-12T22:32:31.203367Z"
    },
    "papermill": {
     "duration": 0.044071,
     "end_time": "2023-04-12T22:32:31.206629",
     "exception": false,
     "start_time": "2023-04-12T22:32:31.162558",
     "status": "completed"
    },
    "tags": []
   },
   "outputs": [
    {
     "data": {
      "text/plain": [
       "array([[0.97767595, 0.02232405],\n",
       "       [0.01235924, 0.98764076],\n",
       "       [0.91469051, 0.08530949],\n",
       "       [0.95256007, 0.04743993],\n",
       "       [0.90239176, 0.09760824],\n",
       "       [0.92426054, 0.07573946],\n",
       "       [0.76699077, 0.23300923],\n",
       "       [0.95192651, 0.04807349],\n",
       "       [0.93807181, 0.06192819],\n",
       "       [0.79634679, 0.20365321]])"
      ]
     },
     "execution_count": 48,
     "metadata": {},
     "output_type": "execute_result"
    }
   ],
   "source": [
    "probs_lgb[:10]"
   ]
  },
  {
   "cell_type": "markdown",
   "id": "588218f0",
   "metadata": {
    "papermill": {
     "duration": 0.032212,
     "end_time": "2023-04-12T22:32:31.271817",
     "exception": false,
     "start_time": "2023-04-12T22:32:31.239605",
     "status": "completed"
    },
    "tags": []
   },
   "source": [
    "### Learning Curve:\n",
    "\n",
    "#### - Plotting the **learning curve** is important to analyse whether the model is generalising properly."
   ]
  },
  {
   "cell_type": "code",
   "execution_count": 49,
   "id": "4f69c2cd",
   "metadata": {
    "execution": {
     "iopub.execute_input": "2023-04-12T22:32:31.339102Z",
     "iopub.status.busy": "2023-04-12T22:32:31.338336Z",
     "iopub.status.idle": "2023-04-12T22:41:54.083590Z",
     "shell.execute_reply": "2023-04-12T22:41:54.082534Z"
    },
    "papermill": {
     "duration": 562.81737,
     "end_time": "2023-04-12T22:41:54.122026",
     "exception": false,
     "start_time": "2023-04-12T22:32:31.304656",
     "status": "completed"
    },
    "tags": []
   },
   "outputs": [
    {
     "data": {
      "image/png": "[encoded data removed]",
      "text/plain": [
       "<Figure size 432x288 with 1 Axes>"
      ]
     },
     "metadata": {},
     "output_type": "display_data"
    },
    {
     "data": {
      "image/png": "[encoded data removed]",
      "text/plain": [
       "<Figure size 432x288 with 1 Axes>"
      ]
     },
     "metadata": {},
     "output_type": "display_data"
    },
    {
     "name": "stdout",
     "output_type": "stream",
     "text": [
      "CPU times: user 1.72 s, sys: 365 ms, total: 2.08 s\n",
      "Wall time: 9min 22s\n"
     ]
    }
   ],
   "source": [
    "%%time\n",
    "def funct_lc(be,X_train,y_train,title):\n",
    "    a, b, c = learning_curve(be, X_train, y_train, n_jobs=-1, scoring='accuracy')\n",
    "    plt.title(f\"{title}\")\n",
    "    plt.plot(a, b.mean(axis=1), label='Training Accuracy')\n",
    "    plt.plot(a, c.mean(axis=1),  label='Validation Accuracy')\n",
    "    plt.xlabel('Training sample sizes')\n",
    "    plt.ylabel('Accuracy')\n",
    "    plt.legend()\n",
    "    plt.show()\n",
    "    \n",
    "funct_lc(be_xgb,X,y,\"XGB Pipeline\")\n",
    "funct_lc(be_lgb,X,y,\"LGB Pipeline\")"
   ]
  },
  {
   "cell_type": "markdown",
   "id": "41b1ea78",
   "metadata": {
    "papermill": {
     "duration": 0.033144,
     "end_time": "2023-04-12T22:41:54.188994",
     "exception": false,
     "start_time": "2023-04-12T22:41:54.155850",
     "status": "completed"
    },
    "tags": []
   },
   "source": [
    "# 3. Evaluating the results of the best model:"
   ]
  },
  {
   "cell_type": "code",
   "execution_count": 50,
   "id": "079eb773",
   "metadata": {
    "execution": {
     "iopub.execute_input": "2023-04-12T22:41:54.257983Z",
     "iopub.status.busy": "2023-04-12T22:41:54.257596Z",
     "iopub.status.idle": "2023-04-12T22:41:55.126027Z",
     "shell.execute_reply": "2023-04-12T22:41:55.125124Z"
    },
    "papermill": {
     "duration": 0.906634,
     "end_time": "2023-04-12T22:41:55.129173",
     "exception": false,
     "start_time": "2023-04-12T22:41:54.222539",
     "status": "completed"
    },
    "tags": []
   },
   "outputs": [
    {
     "name": "stdout",
     "output_type": "stream",
     "text": [
      "[[4995   71]\n",
      " [ 374 1044]]\n",
      "\n",
      "The Confusion Matrix for the XGB Pipeline:\n"
     ]
    },
    {
     "data": {
      "image/png": "[encoded data removed]",
      "text/plain": [
       "<Figure size 432x288 with 2 Axes>"
      ]
     },
     "metadata": {},
     "output_type": "display_data"
    },
    {
     "name": "stdout",
     "output_type": "stream",
     "text": [
      "\n",
      "The Classification Report for the XGB Pipeline:\n",
      "              precision    recall  f1-score   support\n",
      "\n",
      "           0       0.93      0.99      0.96      5066\n",
      "           1       0.94      0.74      0.82      1418\n",
      "\n",
      "    accuracy                           0.93      6484\n",
      "   macro avg       0.93      0.86      0.89      6484\n",
      "weighted avg       0.93      0.93      0.93      6484\n",
      "\n",
      "\n",
      "The Final Accuracy Score for the XGB Pipeline: 0.9313695249845774\n",
      "\n",
      "\n",
      "[[5029   37]\n",
      " [ 403 1015]]\n",
      "\n",
      "The Confusion Matrix for the LGB Pipeline:\n"
     ]
    },
    {
     "data": {
      "image/png": "[encoded data removed]",
      "text/plain": [
       "<Figure size 432x288 with 2 Axes>"
      ]
     },
     "metadata": {},
     "output_type": "display_data"
    },
    {
     "name": "stdout",
     "output_type": "stream",
     "text": [
      "\n",
      "The Classification Report for the LGB Pipeline:\n",
      "              precision    recall  f1-score   support\n",
      "\n",
      "           0       0.93      0.99      0.96      5066\n",
      "           1       0.96      0.72      0.82      1418\n",
      "\n",
      "    accuracy                           0.93      6484\n",
      "   macro avg       0.95      0.85      0.89      6484\n",
      "weighted avg       0.93      0.93      0.93      6484\n",
      "\n",
      "\n",
      "The Final Accuracy Score for the LGB Pipeline: 0.932140653917335\n",
      "\n",
      "\n"
     ]
    }
   ],
   "source": [
    "## Function for confusion matrix:\n",
    "def funct_cm(be,X_test,y_test,preds,title):\n",
    "    ## Simple Confusion Matrix:\n",
    "    print(confusion_matrix(y_test, preds))\n",
    "    \n",
    "    print(f\"\\nThe Confusion Matrix for the {title}:\")\n",
    "    ## Plotting the Confusion Matrix:\n",
    "    plot_confusion_matrix(be, X_test, y_test)\n",
    "    plt.show()\n",
    "    \n",
    "    print(f\"\\nThe Classification Report for the {title}:\")\n",
    "    ## Classification Report:\n",
    "    print(classification_report(y_test, preds))\n",
    "    \n",
    "    print(f\"\\nThe Final Accuracy Score for the {title}: {be.score(X_test, y_test)}\")\n",
    "    ## Accuracy Score\n",
    "    print(\"\\n\")\n",
    "    \n",
    "funct_cm(be_xgb,X_test,y_test,preds_xgb,\"XGB Pipeline\")\n",
    "funct_cm(be_lgb,X_test,y_test,preds_lgb,\"LGB Pipeline\")"
   ]
  },
  {
   "cell_type": "code",
   "execution_count": 51,
   "id": "c7b5dbb6",
   "metadata": {
    "execution": {
     "iopub.execute_input": "2023-04-12T22:41:55.210342Z",
     "iopub.status.busy": "2023-04-12T22:41:55.209438Z",
     "iopub.status.idle": "2023-04-12T22:41:55.218393Z",
     "shell.execute_reply": "2023-04-12T22:41:55.217362Z"
    },
    "papermill": {
     "duration": 0.047526,
     "end_time": "2023-04-12T22:41:55.220491",
     "exception": false,
     "start_time": "2023-04-12T22:41:55.172965",
     "status": "completed"
    },
    "tags": []
   },
   "outputs": [
    {
     "name": "stdout",
     "output_type": "stream",
     "text": [
      "The accuracy score of the XGB model is: 0.9313695249845774!\n",
      "The accuracy score of the LGB model is: 0.932140653917335!\n"
     ]
    }
   ],
   "source": [
    "print(f\"The accuracy score of the XGB model is: {accuracy_score(y_test,preds_xgb)}!\")\n",
    "print(f\"The accuracy score of the LGB model is: {accuracy_score(y_test,preds_lgb)}!\")"
   ]
  },
  {
   "cell_type": "markdown",
   "id": "1cabcc8d",
   "metadata": {
    "papermill": {
     "duration": 0.037785,
     "end_time": "2023-04-12T22:41:55.294054",
     "exception": false,
     "start_time": "2023-04-12T22:41:55.256269",
     "status": "completed"
    },
    "tags": []
   },
   "source": [
    "#### Final Accuracy on test set is around **93**%."
   ]
  },
  {
   "cell_type": "markdown",
   "id": "db8aea7a",
   "metadata": {
    "papermill": {
     "duration": 0.041754,
     "end_time": "2023-04-12T22:41:55.371840",
     "exception": false,
     "start_time": "2023-04-12T22:41:55.330086",
     "status": "completed"
    },
    "tags": []
   },
   "source": [
    "### Plotting the **Precision-Recall** Curve:"
   ]
  },
  {
   "cell_type": "code",
   "execution_count": 52,
   "id": "e221bc74",
   "metadata": {
    "execution": {
     "iopub.execute_input": "2023-04-12T22:41:55.459549Z",
     "iopub.status.busy": "2023-04-12T22:41:55.458758Z",
     "iopub.status.idle": "2023-04-12T22:41:56.304158Z",
     "shell.execute_reply": "2023-04-12T22:41:56.303071Z"
    },
    "papermill": {
     "duration": 0.88653,
     "end_time": "2023-04-12T22:41:56.307431",
     "exception": false,
     "start_time": "2023-04-12T22:41:55.420901",
     "status": "completed"
    },
    "tags": []
   },
   "outputs": [
    {
     "data": {
      "image/png": "[encoded data removed]",
      "text/plain": [
       "<Figure size 432x288 with 1 Axes>"
      ]
     },
     "metadata": {},
     "output_type": "display_data"
    },
    {
     "data": {
      "image/png": "[encoded data removed]",
      "text/plain": [
       "<Figure size 432x288 with 1 Axes>"
      ]
     },
     "metadata": {},
     "output_type": "display_data"
    },
    {
     "name": "stdout",
     "output_type": "stream",
     "text": [
      "CPU times: user 1.5 s, sys: 316 ms, total: 1.82 s\n",
      "Wall time: 837 ms\n"
     ]
    }
   ],
   "source": [
    "%%time\n",
    "def funct_pr(be,X_test,y_test,title):\n",
    "    plot_precision_recall_curve(estimator=be, X=X_test, y=y_test, name='model AUC')\n",
    "    baseline = y_test.sum() / len(y_test)\n",
    "    plt.axhline(baseline, ls='--', color='r', label=f'Baseline model ({round(baseline,2)})')\n",
    "    plt.title(f\"{title}\")\n",
    "    plt.legend(loc='best')\n",
    "    plt.show()\n",
    "    \n",
    "funct_pr(pipe_xgb,X_test,y_test,\"XGB Pipeline\")\n",
    "funct_pr(pipe_lgb,X_test,y_test,\"LGB Pipeline\")"
   ]
  },
  {
   "cell_type": "markdown",
   "id": "1e6f8fb6",
   "metadata": {
    "papermill": {
     "duration": 0.036163,
     "end_time": "2023-04-12T22:41:56.379249",
     "exception": false,
     "start_time": "2023-04-12T22:41:56.343086",
     "status": "completed"
    },
    "tags": []
   },
   "source": [
    "### Plotting the **ROC Curve** and calculating **AUC**:\n",
    "\n",
    "- The AUC-ROC metric helps determine and tell us about the capability of a model in distinguishing the classes. The judging criteria being - **Higher the AUC, better the model**.\n",
    "\n",
    "- The **ROC** curve depicts the rate of true positives with respect to the rate of false positives, therefore highlighting the sensitivity of the classifier model.\n",
    "\n",
    "- **AUC** of a classifier is equal to the **probability** that the classifier will rank a randomly chosen positive example higher than that of a randomly chosen negative example. The Area Under the Curve provides the ability for a classifier to distinguish between classes and is used as a summary of the ROC curve. The higher the AUC, it is assumed that the better the performance of the model at distinguishing between the positive and negative classes. "
   ]
  },
  {
   "cell_type": "code",
   "execution_count": 53,
   "id": "74e13c14",
   "metadata": {
    "execution": {
     "iopub.execute_input": "2023-04-12T22:41:56.453475Z",
     "iopub.status.busy": "2023-04-12T22:41:56.452615Z",
     "iopub.status.idle": "2023-04-12T22:41:56.945139Z",
     "shell.execute_reply": "2023-04-12T22:41:56.943946Z"
    },
    "papermill": {
     "duration": 0.532601,
     "end_time": "2023-04-12T22:41:56.947715",
     "exception": false,
     "start_time": "2023-04-12T22:41:56.415114",
     "status": "completed"
    },
    "tags": []
   },
   "outputs": [
    {
     "data": {
      "image/png": "[encoded data removed]",
      "text/plain": [
       "<Figure size 576x576 with 1 Axes>"
      ]
     },
     "metadata": {},
     "output_type": "display_data"
    },
    {
     "data": {
      "image/png": "[encoded data removed]",
      "text/plain": [
       "<Figure size 576x576 with 1 Axes>"
      ]
     },
     "metadata": {},
     "output_type": "display_data"
    }
   ],
   "source": [
    "def funct_roc(y_test,preds,title):\n",
    "    fpr, tpr, threshold = roc_curve(y_test, preds)\n",
    "    roc_auc = auc(fpr, tpr)\n",
    "\n",
    "    # method I: plt\n",
    "    plt.figure(figsize=(8,8))\n",
    "    plt.title(f'Receiver Operating Characteristic of {title}')\n",
    "    plt.plot(fpr, tpr, 'b', label = 'AUC = %0.2f' % roc_auc)\n",
    "    plt.legend(loc = 'lower right')\n",
    "    plt.plot([0, 1], [0, 1],'r--')\n",
    "    plt.xlim([0, 1])\n",
    "    plt.ylim([0, 1])\n",
    "    plt.ylabel('True Positive Rate')\n",
    "    plt.xlabel('False Positive Rate')\n",
    "    plt.show()\n",
    "\n",
    "#     # method II: ggplot\n",
    "#     from ggplot import *\n",
    "#     df = pd.DataFrame(dict(fpr = fpr, tpr = tpr))\n",
    "#     ggplot(df, aes(x = 'fpr', y = 'tpr')) + geom_line() + geom_abline(linetype = 'dashed')\n",
    "    \n",
    "funct_roc(y_test,preds_xgb,\"XGB Pipeline\")\n",
    "funct_roc(y_test,preds_lgb,\"LGB Pipeline\")"
   ]
  },
  {
   "cell_type": "markdown",
   "id": "67affc8e",
   "metadata": {
    "papermill": {
     "duration": 0.036662,
     "end_time": "2023-04-12T22:41:57.021840",
     "exception": false,
     "start_time": "2023-04-12T22:41:56.985178",
     "status": "completed"
    },
    "tags": []
   },
   "source": [
    "#### **Important Note::**\n",
    "\n",
    "Generally, the usability of ROC curves and precision-recall curves will depend on the target class:\n",
    "\n",
    "- ROC curves should be used when there are roughly **equal** numbers of observations for each class.\n",
    "- Precision-Recall curves should be used when there is a moderate to large class **imbalance**."
   ]
  },
  {
   "cell_type": "markdown",
   "id": "25059923",
   "metadata": {
    "papermill": {
     "duration": 0.03657,
     "end_time": "2023-04-12T22:41:57.095295",
     "exception": false,
     "start_time": "2023-04-12T22:41:57.058725",
     "status": "completed"
    },
    "tags": []
   },
   "source": [
    "### Calculating **MCC**:"
   ]
  },
  {
   "cell_type": "markdown",
   "id": "82d84b72",
   "metadata": {
    "papermill": {
     "duration": 0.036983,
     "end_time": "2023-04-12T22:41:57.169979",
     "exception": false,
     "start_time": "2023-04-12T22:41:57.132996",
     "status": "completed"
    },
    "tags": []
   },
   "source": [
    "**Matthews correlation coefficient** (MCC) is a metric we can use to assess the **performance** of a classification model.\n",
    "\n",
    "It is calculated as:\n",
    "\n",
    "**MCC = (TP\\*TN – FP\\*FN) / √(TP+FP)(TP+FN)(TN+FP)(TN+FN)**\n",
    "\n",
    "This metric is particularly useful when the two classes are **imbalanced**.\n",
    "\n",
    "The value for MCC ranges from **-1 to 1** where:\n",
    "\n",
    "* -1 indicates total disagreement between predicted classes and actual classes\n",
    "* 0 is synonymous with completely random guessing\n",
    "* 1 indicates total agreement between predicted classes and actual classes"
   ]
  },
  {
   "cell_type": "code",
   "execution_count": 54,
   "id": "7f6f9109",
   "metadata": {
    "execution": {
     "iopub.execute_input": "2023-04-12T22:41:57.245859Z",
     "iopub.status.busy": "2023-04-12T22:41:57.245471Z",
     "iopub.status.idle": "2023-04-12T22:41:57.258012Z",
     "shell.execute_reply": "2023-04-12T22:41:57.257051Z"
    },
    "papermill": {
     "duration": 0.053001,
     "end_time": "2023-04-12T22:41:57.259911",
     "exception": false,
     "start_time": "2023-04-12T22:41:57.206910",
     "status": "completed"
    },
    "tags": []
   },
   "outputs": [
    {
     "name": "stdout",
     "output_type": "stream",
     "text": [
      "The MCC score of XGB Pipeline is:0.7911594901922198\n",
      "The MCC score of LGB Pipeline is:0.7943624524676116\n"
     ]
    }
   ],
   "source": [
    "print(f\"The MCC score of XGB Pipeline is:{matthews_corrcoef(y_test, preds_xgb)}\")\n",
    "print(f\"The MCC score of LGB Pipeline is:{matthews_corrcoef(y_test, preds_lgb)}\")"
   ]
  },
  {
   "cell_type": "markdown",
   "id": "9d3ed0ca",
   "metadata": {
    "papermill": {
     "duration": 0.036892,
     "end_time": "2023-04-12T22:41:57.333851",
     "exception": false,
     "start_time": "2023-04-12T22:41:57.296959",
     "status": "completed"
    },
    "tags": []
   },
   "source": [
    "### Feature Importance:"
   ]
  },
  {
   "cell_type": "markdown",
   "id": "2cc040bf",
   "metadata": {
    "papermill": {
     "duration": 0.036778,
     "end_time": "2023-04-12T22:41:57.407725",
     "exception": false,
     "start_time": "2023-04-12T22:41:57.370947",
     "status": "completed"
    },
    "tags": []
   },
   "source": [
    "**1. Using the embedded FI:**"
   ]
  },
  {
   "cell_type": "code",
   "execution_count": 55,
   "id": "07b5914e",
   "metadata": {
    "_kg_hide-input": true,
    "_kg_hide-output": true,
    "execution": {
     "iopub.execute_input": "2023-04-12T22:41:57.484380Z",
     "iopub.status.busy": "2023-04-12T22:41:57.483674Z",
     "iopub.status.idle": "2023-04-12T22:41:57.488469Z",
     "shell.execute_reply": "2023-04-12T22:41:57.487437Z"
    },
    "papermill": {
     "duration": 0.046443,
     "end_time": "2023-04-12T22:41:57.491037",
     "exception": false,
     "start_time": "2023-04-12T22:41:57.444594",
     "status": "completed"
    },
    "tags": []
   },
   "outputs": [],
   "source": [
    "# ## Making artificial data with the help of sklearn's make_classification method:\n",
    "# X1,y1=make_classification(100,20,n_classes=2,weights=[0.75])\n",
    "\n",
    "# ## Gives count of each target's class:\n",
    "# uni,cnt=np.unique(y1,return_counts=True)\n",
    "# for i,(j,k) in enumerate(zip(uni,cnt)):\n",
    "#     print(j,\"--\",k)\n",
    "\n",
    "# X1=pd.DataFrame(X1)\n",
    "\n",
    "# ## Splitting:\n",
    "# X_train1,X_test1,y_train1,y_test1=train_test_split(X1,y1)\n",
    "# pipe1 = be_lgb\n",
    "# pipe1.fit(X_train1,y_train1)\n",
    "\n",
    "# res1=pipe1.predict(X_test1)\n",
    "\n",
    "# print(f\"The accuracy of the Decision Tree Model is:{accuracy_score(y_test1,res1)}\")"
   ]
  },
  {
   "cell_type": "code",
   "execution_count": 56,
   "id": "20e987b7",
   "metadata": {
    "execution": {
     "iopub.execute_input": "2023-04-12T22:41:57.567219Z",
     "iopub.status.busy": "2023-04-12T22:41:57.566836Z",
     "iopub.status.idle": "2023-04-12T22:41:58.020472Z",
     "shell.execute_reply": "2023-04-12T22:41:58.019489Z"
    },
    "papermill": {
     "duration": 0.494084,
     "end_time": "2023-04-12T22:41:58.022514",
     "exception": false,
     "start_time": "2023-04-12T22:41:57.528430",
     "status": "completed"
    },
    "tags": []
   },
   "outputs": [
    {
     "name": "stdout",
     "output_type": "stream",
     "text": [
      "FOR XGB PIPELINE:\n",
      "\n"
     ]
    },
    {
     "data": {
      "image/png": "[encoded data removed]",
      "text/plain": [
       "<Figure size 432x288 with 1 Axes>"
      ]
     },
     "metadata": {},
     "output_type": "display_data"
    },
    {
     "name": "stdout",
     "output_type": "stream",
     "text": [
      "\n",
      "FOR LGBM PIPELINE:\n",
      "\n"
     ]
    },
    {
     "data": {
      "image/png": "[encoded data removed]",
      "text/plain": [
       "<Figure size 432x288 with 1 Axes>"
      ]
     },
     "metadata": {},
     "output_type": "display_data"
    }
   ],
   "source": [
    "def funct_fi(p,cols):\n",
    "    fi=p.steps[2][1].feature_importances_  ## Returns the list of feature importance from model inside the pipeline\n",
    "    feat_importances = pd.Series(fi, index=cols)\n",
    "    feat_importances.nlargest(5).plot(kind='barh')\n",
    "    plt.show()\n",
    "    \n",
    "# Obtaining the names of the One Hot Encoded columns:\n",
    "# Check the article for more information: https://medium.com/mlearning-ai/get-column-name-after-fitting-the-machine-learning-pipeline-145a2a8051cc\n",
    "ccol=pipe_lgb.named_steps[\"coltf\"].named_transformers_[\"cat_cols\"].get_feature_names()\n",
    "ncol=ncol.delete(ncol.get_loc(\"loan_status\"))  ## ncol is an index object, not an array object\n",
    "ncol=ncol.delete(ncol.get_loc(\"loan_int_rate\"))\n",
    "train_col=list(ncol)+list(ccol) ## Final list of columns\n",
    "\n",
    "print(\"FOR XGB PIPELINE:\\n\")\n",
    "funct_fi(pipe_xgb,train_col)\n",
    "print(\"\\nFOR LGBM PIPELINE:\\n\")\n",
    "funct_fi(pipe_lgb,train_col)"
   ]
  },
  {
   "cell_type": "markdown",
   "id": "ab93ea64",
   "metadata": {
    "papermill": {
     "duration": 0.03784,
     "end_time": "2023-04-12T22:41:58.098478",
     "exception": false,
     "start_time": "2023-04-12T22:41:58.060638",
     "status": "completed"
    },
    "tags": []
   },
   "source": [
    "# 4. Pickling the best Pipeline:"
   ]
  },
  {
   "cell_type": "markdown",
   "id": "e008ab10",
   "metadata": {
    "papermill": {
     "duration": 0.037279,
     "end_time": "2023-04-12T22:41:58.174339",
     "exception": false,
     "start_time": "2023-04-12T22:41:58.137060",
     "status": "completed"
    },
    "tags": []
   },
   "source": [
    "### - Since LGBM based pipeline gave us a better accuracy, we will be deploying it on our Streamlit platform."
   ]
  },
  {
   "cell_type": "code",
   "execution_count": 57,
   "id": "28a60941",
   "metadata": {
    "execution": {
     "iopub.execute_input": "2023-04-12T22:41:58.251058Z",
     "iopub.status.busy": "2023-04-12T22:41:58.250648Z",
     "iopub.status.idle": "2023-04-12T22:41:58.314289Z",
     "shell.execute_reply": "2023-04-12T22:41:58.313203Z"
    },
    "papermill": {
     "duration": 0.104984,
     "end_time": "2023-04-12T22:41:58.316599",
     "exception": false,
     "start_time": "2023-04-12T22:41:58.211615",
     "status": "completed"
    },
    "tags": []
   },
   "outputs": [
    {
     "data": {
      "text/plain": [
       "['best_pipeline.pkl']"
      ]
     },
     "execution_count": 57,
     "metadata": {},
     "output_type": "execute_result"
    }
   ],
   "source": [
    "# Save the ML Pipeline:\n",
    "import joblib\n",
    "joblib.dump(pipe_lgb, 'best_pipeline.pkl')"
   ]
  },
  {
   "cell_type": "code",
   "execution_count": 58,
   "id": "c9cc66f7",
   "metadata": {
    "execution": {
     "iopub.execute_input": "2023-04-12T22:41:58.393821Z",
     "iopub.status.busy": "2023-04-12T22:41:58.393360Z",
     "iopub.status.idle": "2023-04-12T22:41:58.397738Z",
     "shell.execute_reply": "2023-04-12T22:41:58.396694Z"
    },
    "papermill": {
     "duration": 0.045256,
     "end_time": "2023-04-12T22:41:58.399739",
     "exception": false,
     "start_time": "2023-04-12T22:41:58.354483",
     "status": "completed"
    },
    "tags": []
   },
   "outputs": [],
   "source": [
    "b=0\n",
    "t=1"
   ]
  },
  {
   "cell_type": "code",
   "execution_count": 59,
   "id": "1957bc53",
   "metadata": {
    "execution": {
     "iopub.execute_input": "2023-04-12T22:41:58.476756Z",
     "iopub.status.busy": "2023-04-12T22:41:58.476042Z",
     "iopub.status.idle": "2023-04-12T22:41:58.481385Z",
     "shell.execute_reply": "2023-04-12T22:41:58.480643Z"
    },
    "papermill": {
     "duration": 0.046036,
     "end_time": "2023-04-12T22:41:58.483403",
     "exception": false,
     "start_time": "2023-04-12T22:41:58.437367",
     "status": "completed"
    },
    "tags": []
   },
   "outputs": [],
   "source": [
    "def f1():\n",
    "    d=1\n",
    "    return d\n",
    "def f2(d):\n",
    "    return d**2\n",
    "\n",
    "if t==1:\n",
    "    d=f1()\n",
    "elif t==2:\n",
    "    res=f2(d)\n",
    "    print(res)"
   ]
  },
  {
   "cell_type": "code",
   "execution_count": null,
   "id": "69cf32ea",
   "metadata": {
    "papermill": {
     "duration": 0.047842,
     "end_time": "2023-04-12T22:41:58.575891",
     "exception": false,
     "start_time": "2023-04-12T22:41:58.528049",
     "status": "completed"
    },
    "tags": []
   },
   "outputs": [],
   "source": []
  }
 ],
 "metadata": {
  "kernelspec": {
   "display_name": "Python 3",
   "language": "python",
   "name": "python3"
  },
  "language_info": {
   "codemirror_mode": {
    "name": "ipython",
    "version": 3
   },
   "file_extension": ".py",
   "mimetype": "text/x-python",
   "name": "python",
   "nbconvert_exporter": "python",
   "pygments_lexer": "ipython3",
   "version": "3.7.12"
  },
  "papermill": {
   "default_parameters": {},
   "duration": 2443.817322,
   "end_time": "2023-04-12T22:42:01.240518",
   "environment_variables": {},
   "exception": null,
   "input_path": "__notebook__.ipynb",
   "output_path": "__notebook__.ipynb",
   "parameters": {},
   "start_time": "2023-04-12T22:01:17.423196",
   "version": "2.3.4"
  }
 },
 "nbformat": 4,
 "nbformat_minor": 5
}
